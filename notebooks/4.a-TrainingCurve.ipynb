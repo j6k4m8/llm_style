{
 "cells": [
  {
   "cell_type": "code",
   "execution_count": 1,
   "metadata": {},
   "outputs": [],
   "source": [
    "training_output = \"\"\"\\\n",
    "Epoch 1, Batch 1, Loss: 1.5146\n",
    "Epoch 1, Batch 2, Loss: 1.1064\n",
    "Epoch 1, Batch 3, Loss: 1.2540\n",
    "Epoch 1, Batch 4, Loss: 1.0732\n",
    "Epoch 1, Batch 5, Loss: 1.0307\n",
    "Epoch 1, Batch 6, Loss: 1.1955\n",
    "Epoch 1, Batch 7, Loss: 0.7894\n",
    "Epoch 1 completed.\n",
    "Epoch 2, Batch 1, Loss: 0.9335\n",
    "Epoch 2, Batch 2, Loss: 1.0891\n",
    "Epoch 2, Batch 3, Loss: 1.3274\n",
    "Epoch 2, Batch 4, Loss: 0.8625\n",
    "Epoch 2, Batch 5, Loss: 0.8727\n",
    "Epoch 2, Batch 6, Loss: 0.9292\n",
    "Epoch 2, Batch 7, Loss: 0.7360\n",
    "Epoch 2 completed.\n",
    "Epoch 3, Batch 1, Loss: 0.7889\n",
    "Epoch 3, Batch 2, Loss: 0.6695\n",
    "Epoch 3, Batch 3, Loss: 0.8106\n",
    "Epoch 3, Batch 4, Loss: 0.6430\n",
    "Epoch 3, Batch 5, Loss: 0.7138\n",
    "Epoch 3, Batch 6, Loss: 0.8111\n",
    "Epoch 3, Batch 7, Loss: 0.4334\n",
    "Epoch 3 completed.\n",
    "Epoch 4, Batch 1, Loss: 0.5217\n",
    "Epoch 4, Batch 2, Loss: 0.5583\n",
    "Epoch 4, Batch 3, Loss: 0.7756\n",
    "Epoch 4, Batch 4, Loss: 0.5384\n",
    "Epoch 4, Batch 5, Loss: 0.6903\n",
    "Epoch 4, Batch 6, Loss: 0.6327\n",
    "Epoch 4, Batch 7, Loss: 0.2183\n",
    "Epoch 4 completed.\n",
    "Epoch 5, Batch 1, Loss: 0.4384\n",
    "Epoch 5, Batch 2, Loss: 0.4773\n",
    "Epoch 5, Batch 3, Loss: 0.6054\n",
    "Epoch 5, Batch 4, Loss: 0.4438\n",
    "Epoch 5, Batch 5, Loss: 0.5538\n",
    "Epoch 5, Batch 6, Loss: 0.5808\n",
    "Epoch 5, Batch 7, Loss: 0.1834\n",
    "Epoch 5 completed.\"\"\"\n",
    "\n",
    "import matplotlib.pyplot as plt\n",
    "import numpy as np"
   ]
  },
  {
   "cell_type": "code",
   "execution_count": null,
   "metadata": {},
   "outputs": [],
   "source": [
    "points = []\n",
    "# (epoch, batch, loss)\n",
    "for line in training_output.splitlines():\n",
    "        if \"completed\" in line:\n",
    "            continue\n",
    "        epoch, batch, loss = line.split(\", \")\n",
    "        epoch = int(epoch.split()[1])\n",
    "        batch = int(batch.split()[1])\n",
    "        loss = float(loss.split(\": \")[1])\n",
    "\n",
    "        points.append((epoch, batch, loss))\n"
   ]
  },
  {
   "cell_type": "code",
   "execution_count": 25,
   "metadata": {},
   "outputs": [
    {
     "data": {
      "image/png": "[encoded data removed]",
      "text/plain": [
       "<Figure size 400x300 with 1 Axes>"
      ]
     },
     "metadata": {},
     "output_type": "display_data"
    }
   ],
   "source": [
    "# Training curve:\n",
    "# with plt.style.context(\"seaborn-v0_8-talk\"):\n",
    "fig, ax = plt.subplots(figsize=(4, 3))\n",
    "ax.set_title(\"Training Loss\")\n",
    "ax.set_xlabel(\"Epoch\")\n",
    "ax.set_ylabel(\"Loss\")\n",
    "# ax.set_ylim(0, 1.6)\n",
    "# ax.set_xlim(0, 5)\n",
    "ax.grid(True)\n",
    "\n",
    "points = np.array(points)\n",
    "actual_x = points[:, 0] + (points[:, 1] - 1) / 7\n",
    "ax.plot(actual_x, points[:, 2], marker=\"o\", color=\"tab:blue\", label=\"Loss per batch\")\n",
    "# Running avg, n=2\n",
    "ax.plot(actual_x[1:], np.convolve(points[:, 2], np.ones(2) / 2, mode=\"valid\"), color=\"tab:orange\", label=\"Running avg (n=2)\")\n",
    "plt.yscale(\"log\")\n",
    "plt.yticks([0.1, 0.2, 0.5, 1, 2, 5])\n",
    "plt.show()"
   ]
  },
  {
   "cell_type": "code",
   "execution_count": 11,
   "metadata": {},
   "outputs": [
    {
     "data": {
      "text/plain": [
       "array([[1.    , 1.    , 1.5146],\n",
       "       [1.    , 2.    , 1.1064],\n",
       "       [1.    , 3.    , 1.254 ],\n",
       "       [1.    , 4.    , 1.0732],\n",
       "       [1.    , 5.    , 1.0307],\n",
       "       [1.    , 6.    , 1.1955],\n",
       "       [1.    , 7.    , 0.7894],\n",
       "       [2.    , 1.    , 0.9335],\n",
       "       [2.    , 2.    , 1.0891],\n",
       "       [2.    , 3.    , 1.3274],\n",
       "       [2.    , 4.    , 0.8625],\n",
       "       [2.    , 5.    , 0.8727],\n",
       "       [2.    , 6.    , 0.9292],\n",
       "       [2.    , 7.    , 0.736 ],\n",
       "       [3.    , 1.    , 0.7889],\n",
       "       [3.    , 2.    , 0.6695],\n",
       "       [3.    , 3.    , 0.8106],\n",
       "       [3.    , 4.    , 0.643 ],\n",
       "       [3.    , 5.    , 0.7138],\n",
       "       [3.    , 6.    , 0.8111],\n",
       "       [3.    , 7.    , 0.4334],\n",
       "       [4.    , 1.    , 0.5217],\n",
       "       [4.    , 2.    , 0.5583],\n",
       "       [4.    , 3.    , 0.7756],\n",
       "       [4.    , 4.    , 0.5384],\n",
       "       [4.    , 5.    , 0.6903],\n",
       "       [4.    , 6.    , 0.6327],\n",
       "       [4.    , 7.    , 0.2183],\n",
       "       [5.    , 1.    , 0.4384],\n",
       "       [5.    , 2.    , 0.4773],\n",
       "       [5.    , 3.    , 0.6054],\n",
       "       [5.    , 4.    , 0.4438],\n",
       "       [5.    , 5.    , 0.5538],\n",
       "       [5.    , 6.    , 0.5808],\n",
       "       [5.    , 7.    , 0.1834]])"
      ]
     },
     "execution_count": 11,
     "metadata": {},
     "output_type": "execute_result"
    }
   ],
   "source": [
    "points"
   ]
  },
  {
   "cell_type": "code",
   "execution_count": null,
   "metadata": {},
   "outputs": [],
   "source": []
  }
 ],
 "metadata": {
  "kernelspec": {
   "display_name": ".venv",
   "language": "python",
   "name": "python3"
  },
  "language_info": {
   "codemirror_mode": {
    "name": "ipython",
    "version": 3
   },
   "file_extension": ".py",
   "mimetype": "text/x-python",
   "name": "python",
   "nbconvert_exporter": "python",
   "pygments_lexer": "ipython3",
   "version": "3.11.9"
  }
 },
 "nbformat": 4,
 "nbformat_minor": 2
}
