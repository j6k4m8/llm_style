{
 "cells": [
  {
   "cell_type": "code",
   "execution_count": 6,
   "metadata": {},
   "outputs": [
    {
     "name": "stdout",
     "output_type": "stream",
     "text": [
      "\u001b[2K\u001b[2mResolved \u001b[1m133 packages\u001b[0m \u001b[2min 411ms\u001b[0m\u001b[0m                                       \u001b[0m\n",
      "\u001b[2K\u001b[36m\u001b[1mBuilding\u001b[0m\u001b[39m llm-style\u001b[2m @ file:///Users/mateljk1/Documents/school/S25/ATDL/llm_style\u001b[0m\n",
      "\u001b[2K\u001b[1A\u001b[36m\u001b[1mBuilding\u001b[0m\u001b[39m llm-style\u001b[2m @ file:///Users/mateljk1/Documents/school/S25/ATDL/llm_style\u001b[0m\n",
      "\u001b[37m⠙\u001b[0m \u001b[2mPreparing packages...\u001b[0m (0/3)\n",
      "\u001b[2K\u001b[2A\u001b[36m\u001b[1mBuilding\u001b[0m\u001b[39m llm-style\u001b[2m @ file:///Users/mateljk1/Documents/school/S25/ATDL/llm_style\u001b[0m\n",
      "\u001b[36m\u001b[1mBuilding\u001b[0m\u001b[39m rouge-score\u001b[2m==0.1.2\u001b[0m\n",
      "\u001b[37m⠙\u001b[0m \u001b[2mPreparing packages...\u001b[0m (0/3)\n",
      "\u001b[2K\u001b[3A\u001b[36m\u001b[1mBuilding\u001b[0m\u001b[39m llm-style\u001b[2m @ file:///Users/mateljk1/Documents/school/S25/ATDL/llm_style\u001b[0m\n",
      "\u001b[36m\u001b[1mBuilding\u001b[0m\u001b[39m rouge-score\u001b[2m==0.1.2\u001b[0m\n",
      "\u001b[37m⠙\u001b[0m \u001b[2mPreparing packages...\u001b[0m (0/3)\n",
      "\u001b[2K\u001b[3A\u001b[36m\u001b[1mBuilding\u001b[0m\u001b[39m llm-style\u001b[2m @ file:///Users/mateljk1/Documents/school/S25/ATDL/llm_style\u001b[0m\n",
      "\u001b[36m\u001b[1mBuilding\u001b[0m\u001b[39m rouge-score\u001b[2m==0.1.2\u001b[0m\n",
      "\u001b[37m⠙\u001b[0m \u001b[2mPreparing packages...\u001b[0m (0/3)\n",
      "\u001b[2K\u001b[3A\u001b[36m\u001b[1mBuilding\u001b[0m\u001b[39m llm-style\u001b[2m @ file:///Users/mateljk1/Documents/school/S25/ATDL/llm_style\u001b[0m\n",
      "\u001b[36m\u001b[1mBuilding\u001b[0m\u001b[39m rouge-score\u001b[2m==0.1.2\u001b[0m\n",
      "\u001b[37m⠙\u001b[0m \u001b[2mPreparing packages...\u001b[0m (0/3)\n",
      "\u001b[2K\u001b[3A\u001b[36m\u001b[1mBuilding\u001b[0m\u001b[39m llm-style\u001b[2m @ file:///Users/mateljk1/Documents/school/S25/ATDL/llm_style\u001b[0m\n",
      "\u001b[36m\u001b[1mBuilding\u001b[0m\u001b[39m rouge-score\u001b[2m==0.1.2\u001b[0m\n",
      "\u001b[37m⠙\u001b[0m \u001b[2mPreparing packages...\u001b[0m (0/3)\n",
      "\u001b[2K\u001b[3A\u001b[36m\u001b[1mBuilding\u001b[0m\u001b[39m llm-style\u001b[2m @ file:///Users/mateljk1/Documents/school/S25/ATDL/llm_style\u001b[0m\n",
      "\u001b[36m\u001b[1mBuilding\u001b[0m\u001b[39m rouge-score\u001b[2m==0.1.2\u001b[0m\n",
      "\u001b[37m⠙\u001b[0m \u001b[2mPreparing packages...\u001b[0m (0/3)\n",
      "\u001b[2K\u001b[3A\u001b[36m\u001b[1mBuilding\u001b[0m\u001b[39m llm-style\u001b[2m @ file:///Users/mateljk1/Documents/school/S25/ATDL/llm_style\u001b[0m\n",
      "\u001b[36m\u001b[1mBuilding\u001b[0m\u001b[39m rouge-score\u001b[2m==0.1.2\u001b[0m\n",
      "\u001b[37m⠙\u001b[0m \u001b[2mPreparing packages...\u001b[0m (0/3)\n",
      "\u001b[2K\u001b[3A\u001b[36m\u001b[1mBuilding\u001b[0m\u001b[39m llm-style\u001b[2m @ file:///Users/mateljk1/Documents/school/S25/ATDL/llm_style\u001b[0m\n",
      "\u001b[36m\u001b[1mBuilding\u001b[0m\u001b[39m rouge-score\u001b[2m==0.1.2\u001b[0m\n",
      "\u001b[37m⠙\u001b[0m \u001b[2mPreparing packages...\u001b[0m (0/3)\n",
      "\u001b[2K\u001b[3A\u001b[36m\u001b[1mBuilding\u001b[0m\u001b[39m llm-style\u001b[2m @ file:///Users/mateljk1/Documents/school/S25/ATDL/llm_style\u001b[0m\n",
      "\u001b[36m\u001b[1mBuilding\u001b[0m\u001b[39m rouge-score\u001b[2m==0.1.2\u001b[0m\n",
      "\u001b[37m⠙\u001b[0m \u001b[2mPreparing packages...\u001b[0m (0/3)\n",
      "\u001b[2K\u001b[3A\u001b[36m\u001b[1mBuilding\u001b[0m\u001b[39m llm-style\u001b[2m @ file:///Users/mateljk1/Documents/school/S25/ATDL/llm_style\u001b[0m\n",
      "\u001b[36m\u001b[1mBuilding\u001b[0m\u001b[39m rouge-score\u001b[2m==0.1.2\u001b[0m\n",
      "\u001b[37m⠙\u001b[0m \u001b[2mPreparing packages...\u001b[0m (0/3)\n",
      "\u001b[2K\u001b[3A\u001b[36m\u001b[1mBuilding\u001b[0m\u001b[39m llm-style\u001b[2m @ file:///Users/mateljk1/Documents/school/S25/ATDL/llm_style\u001b[0m\n",
      "\u001b[36m\u001b[1mBuilding\u001b[0m\u001b[39m rouge-score\u001b[2m==0.1.2\u001b[0m\n",
      "\u001b[37m⠙\u001b[0m \u001b[2mPreparing packages...\u001b[0m (0/3)\n",
      "\u001b[2K\u001b[3A\u001b[36m\u001b[1mBuilding\u001b[0m\u001b[39m llm-style\u001b[2m @ file:///Users/mateljk1/Documents/school/S25/ATDL/llm_style\u001b[0m\n",
      "\u001b[36m\u001b[1mBuilding\u001b[0m\u001b[39m rouge-score\u001b[2m==0.1.2\u001b[0m\n",
      "\u001b[37m⠙\u001b[0m \u001b[2mPreparing packages...\u001b[0m (0/3)\n",
      "\u001b[2K\u001b[3A\u001b[36m\u001b[1mBuilding\u001b[0m\u001b[39m llm-style\u001b[2m @ file:///Users/mateljk1/Documents/school/S25/ATDL/llm_style\u001b[0m\n",
      "\u001b[36m\u001b[1mBuilding\u001b[0m\u001b[39m rouge-score\u001b[2m==0.1.2\u001b[0m\n",
      "\u001b[37m⠙\u001b[0m \u001b[2mPreparing packages...\u001b[0m (0/3)\n",
      "\u001b[2K\u001b[3A\u001b[36m\u001b[1mBuilding\u001b[0m\u001b[39m llm-style\u001b[2m @ file:///Users/mateljk1/Documents/school/S25/ATDL/llm_style\u001b[0m\n",
      "\u001b[36m\u001b[1mBuilding\u001b[0m\u001b[39m rouge-score\u001b[2m==0.1.2\u001b[0m\n",
      "\u001b[37m⠙\u001b[0m \u001b[2mPreparing packages...\u001b[0m (0/3)\n",
      "\u001b[2K\u001b[3A\u001b[36m\u001b[1mBuilding\u001b[0m\u001b[39m llm-style\u001b[2m @ file:///Users/mateljk1/Documents/school/S25/ATDL/llm_style\u001b[0m\n",
      "\u001b[36m\u001b[1mBuilding\u001b[0m\u001b[39m rouge-score\u001b[2m==0.1.2\u001b[0m\n",
      "\u001b[37m⠙\u001b[0m \u001b[2mPreparing packages...\u001b[0m (0/3)\n",
      "\u001b[2K\u001b[3A\u001b[36m\u001b[1mBuilding\u001b[0m\u001b[39m llm-style\u001b[2m @ file:///Users/mateljk1/Documents/school/S25/ATDL/llm_style\u001b[0m\n",
      "\u001b[36m\u001b[1mBuilding\u001b[0m\u001b[39m rouge-score\u001b[2m==0.1.2\u001b[0m\n",
      "\u001b[37m⠙\u001b[0m \u001b[2mPreparing packages...\u001b[0m (0/3)\n",
      "\u001b[2K\u001b[3A\u001b[36m\u001b[1mBuilding\u001b[0m\u001b[39m llm-style\u001b[2m @ file:///Users/mateljk1/Documents/school/S25/ATDL/llm_style\u001b[0m\n",
      "\u001b[36m\u001b[1mBuilding\u001b[0m\u001b[39m rouge-score\u001b[2m==0.1.2\u001b[0m\n",
      "\u001b[37m⠙\u001b[0m \u001b[2mPreparing packages...\u001b[0m (0/3)\n",
      "\u001b[2K\u001b[3A\u001b[36m\u001b[1mBuilding\u001b[0m\u001b[39m llm-style\u001b[2m @ file:///Users/mateljk1/Documents/school/S25/ATDL/llm_style\u001b[0m\n",
      "\u001b[36m\u001b[1mBuilding\u001b[0m\u001b[39m rouge-score\u001b[2m==0.1.2\u001b[0m\n",
      "\u001b[2K\u001b[2A\u001b[36m\u001b[1mBuilding\u001b[0m\u001b[39m llm-style\u001b[2m @ file:///Users/mateljk1/Documents/school/S25/ATDL/llm_style\u001b[0m\n",
      "\u001b[36m\u001b[1mBuilding\u001b[0m\u001b[39m rouge-score\u001b[2m==0.1.2\u001b[0m\n",
      "\u001b[2K\u001b[2A\u001b[36m\u001b[1mBuilding\u001b[0m\u001b[39m llm-style\u001b[2m @ file:///Users/mateljk1/Documents/school/S25/ATDL/llm_style\u001b[0m\n",
      "\u001b[36m\u001b[1mBuilding\u001b[0m\u001b[39m rouge-score\u001b[2m==0.1.2\u001b[0m\n",
      "\u001b[2K\u001b[2A\u001b[36m\u001b[1mBuilding\u001b[0m\u001b[39m llm-style\u001b[2m @ file:///Users/mateljk1/Documents/school/S25/ATDL/llm_style\u001b[0m\n",
      "\u001b[36m\u001b[1mBuilding\u001b[0m\u001b[39m rouge-score\u001b[2m==0.1.2\u001b[0m\n",
      "\u001b[2K\u001b[2A\u001b[36m\u001b[1mBuilding\u001b[0m\u001b[39m llm-style\u001b[2m @ file:///Users/mateljk1/Documents/school/S25/ATDL/llm_style\u001b[0m\n",
      "\u001b[36m\u001b[1mBuilding\u001b[0m\u001b[39m rouge-score\u001b[2m==0.1.2\u001b[0m\n",
      "\u001b[2K\u001b[2A\u001b[36m\u001b[1mBuilding\u001b[0m\u001b[39m llm-style\u001b[2m @ file:///Users/mateljk1/Documents/school/S25/ATDL/llm_style\u001b[0m\n",
      "   \u001b[32m\u001b[1mBuilt\u001b[0m\u001b[39m rouge-score\u001b[2m==0.1.2\u001b[0m\n",
      "\u001b[2K\u001b[2A   \u001b[32m\u001b[1mBuilt\u001b[0m\u001b[39m llm-style\u001b[2m @ file:///Users/mateljk1/Documents/school/S25/ATDL/llm_style\u001b[0m\n",
      "   \u001b[32m\u001b[1mBuilt\u001b[0m\u001b[39m rouge-score\u001b[2m==0.1.2\u001b[0m\n",
      "\u001b[2K\u001b[1A   \u001b[32m\u001b[1mBuilt\u001b[0m\u001b[39m rouge-score\u001b[2m==0.1.2\u001b[0m                                    \u001b[1A\n",
      "\u001b[2K\u001b[2mPrepared \u001b[1m3 packages\u001b[0m \u001b[2min 969ms\u001b[0m\u001b[0m                                         \n",
      "\u001b[2mUninstalled \u001b[1m1 package\u001b[0m \u001b[2min 3ms\u001b[0m\u001b[0m\n",
      "\u001b[2K\u001b[2mInstalled \u001b[1m3 packages\u001b[0m \u001b[2min 3ms\u001b[0m\u001b[0m                                 \u001b[0m\n",
      " \u001b[32m+\u001b[39m \u001b[1mabsl-py\u001b[0m\u001b[2m==2.2.2\u001b[0m\n",
      " \u001b[33m~\u001b[39m \u001b[1mllm-style\u001b[0m\u001b[2m==0.1.0 (from file:///Users/mateljk1/Documents/school/S25/ATDL/llm_style)\u001b[0m\n",
      " \u001b[32m+\u001b[39m \u001b[1mrouge-score\u001b[0m\u001b[2m==0.1.2\u001b[0m\n"
     ]
    }
   ],
   "source": [
    "import evaluate\n",
    "import json\n",
    "\n",
    "# ImportError: To be able to use evaluate-metric/rouge, you need to install the following dependencies['absl', 'rouge_score'] using 'pip install # Here to have a nice missing dependency error message early on rouge_score' for instance'\n",
    "!uv add rouge_score\n"
   ]
  },
  {
   "cell_type": "code",
   "execution_count": 7,
   "metadata": {},
   "outputs": [],
   "source": [
    "with open(\"rouge_results.json\", \"r\") as f:\n",
    "    data = json.load(f)\n",
    "baseline_predictions = data[\"baseline_predictions\"]\n",
    "modified_predictions = data[\"modified_predictions\"]\n",
    "references = data[\"references\"]\n"
   ]
  },
  {
   "cell_type": "code",
   "execution_count": 8,
   "metadata": {},
   "outputs": [
    {
     "name": "stdout",
     "output_type": "stream",
     "text": [
      "Loading ROUGE metric...\n",
      "Computing ROUGE scores...\n",
      "Baseline phi-4 ROUGE Scores:\n",
      "ROUGE1: 0.1518\n",
      "ROUGE2: 0.0776\n",
      "ROUGEL: 0.1071\n",
      "ROUGELSUM: 0.1253\n",
      "\n",
      "Modified phi-4 ROUGE Scores:\n",
      "ROUGE1: 0.1470\n",
      "ROUGE2: 0.0753\n",
      "ROUGEL: 0.1049\n",
      "ROUGELSUM: 0.1224\n"
     ]
    }
   ],
   "source": [
    "print(\"Loading ROUGE metric...\")\n",
    "rouge_metric = evaluate.load(\"rouge\")\n",
    "\n",
    "# Compute ROUGE scores for the baseline predictions.\n",
    "baseline_results = rouge_metric.compute(\n",
    "    predictions=baseline_predictions, references=references\n",
    ")\n",
    "# Compute ROUGE scores for the modified predictions.\n",
    "modified_results = rouge_metric.compute(\n",
    "    predictions=modified_predictions, references=references\n",
    ")\n",
    "print(\"Computing ROUGE scores...\")\n",
    "\n",
    "# Print out the results.\n",
    "print(\"Baseline phi-4 ROUGE Scores:\")\n",
    "for key, score in baseline_results.items():\n",
    "    print(f\"{key.upper()}: {score:.4f}\")\n",
    "\n",
    "print(\"\\nModified phi-4 ROUGE Scores:\")\n",
    "for key, score in modified_results.items():\n",
    "    print(f\"{key.upper()}: {score:.4f}\")\n"
   ]
  },
  {
   "cell_type": "code",
   "execution_count": null,
   "metadata": {},
   "outputs": [],
   "source": []
  }
 ],
 "metadata": {
  "kernelspec": {
   "display_name": ".venv",
   "language": "python",
   "name": "python3"
  },
  "language_info": {
   "codemirror_mode": {
    "name": "ipython",
    "version": 3
   },
   "file_extension": ".py",
   "mimetype": "text/x-python",
   "name": "python",
   "nbconvert_exporter": "python",
   "pygments_lexer": "ipython3",
   "version": "3.11.9"
  }
 },
 "nbformat": 4,
 "nbformat_minor": 2
}
