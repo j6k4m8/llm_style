{
 "cells": [
  {
   "cell_type": "markdown",
   "metadata": {},
   "source": [
    "# Paired Formality Linear Probes\n",
    "\n",
    "This notebook generates formal or informal text pairs from partially labeled data. It uses the OpenAI API to construct a dataset where formality is the only varying factor, allowing to test whether formality level can be linearly decoded from representations — without content acting as a confounding variable.\n",
    "\n",
    "## Resources\n",
    "* OpenAI API: https://platform.openai.com/docs/overview"
   ]
  },
  {
   "cell_type": "code",
   "execution_count": 2,
   "metadata": {},
   "outputs": [],
   "source": [
    "import matplotlib.pyplot as plt\n",
    "import numpy as np\n",
    "import torch\n",
    "import pandas as pd\n",
    "import transformers\n",
    "from sklearn.linear_model import LogisticRegression\n",
    "from sklearn.metrics import accuracy_score\n",
    "from sklearn.model_selection import train_test_split\n",
    "from llm_style.formality_dataset import FormalityDataset, PavlickFormalityDataset\n",
    "from llm_style.paired_formality_dataset import PairedFormalityDataset"
   ]
  },
  {
   "cell_type": "code",
   "execution_count": null,
   "metadata": {},
   "outputs": [
    {
     "data": {
      "application/vnd.jupyter.widget-view+json": {
       "model_id": "79509cb45f9d4c959ace07e800666d29",
       "version_major": 2,
       "version_minor": 0
      },
      "text/plain": [
       "README.md:   0%|          | 0.00/2.90k [00:00<?, ?B/s]"
      ]
     },
     "metadata": {},
     "output_type": "display_data"
    },
    {
     "data": {
      "application/vnd.jupyter.widget-view+json": {
       "model_id": "bc3a381fc1494dc7a968799eeaccf7af",
       "version_major": 2,
       "version_minor": 0
      },
      "text/plain": [
       "train.csv:   0%|          | 0.00/937k [00:00<?, ?B/s]"
      ]
     },
     "metadata": {},
     "output_type": "display_data"
    },
    {
     "data": {
      "application/vnd.jupyter.widget-view+json": {
       "model_id": "38973d69f1884eff9e493c1610fb205c",
       "version_major": 2,
       "version_minor": 0
      },
      "text/plain": [
       "test.csv:   0%|          | 0.00/202k [00:00<?, ?B/s]"
      ]
     },
     "metadata": {},
     "output_type": "display_data"
    },
    {
     "data": {
      "application/vnd.jupyter.widget-view+json": {
       "model_id": "850bc552f09749c9a4a81da8d17ac056",
       "version_major": 2,
       "version_minor": 0
      },
      "text/plain": [
       "Generating train split:   0%|          | 0/9274 [00:00<?, ? examples/s]"
      ]
     },
     "metadata": {},
     "output_type": "display_data"
    },
    {
     "data": {
      "application/vnd.jupyter.widget-view+json": {
       "model_id": "6cc684feafb6443799b494de8ddafada",
       "version_major": 2,
       "version_minor": 0
      },
      "text/plain": [
       "Generating test split:   0%|          | 0/2000 [00:00<?, ? examples/s]"
      ]
     },
     "metadata": {},
     "output_type": "display_data"
    }
   ],
   "source": [
    "dataset = PavlickFormalityDataset(mode=\"filtered\")\n",
    "api_key = api_key=\"\"\n",
    "chatbot_dataset = PairedFormalityDataset(api_key=api_key)"
   ]
  },
  {
   "cell_type": "code",
   "execution_count": 4,
   "metadata": {},
   "outputs": [],
   "source": [
    "# Extract texts and labels from the dataset\n",
    "texts = []\n",
    "labels = []\n",
    "for i in range(0, 250):\n",
    "    # if i >= len(dataset):\n",
    "    #     break\n",
    "    sample = dataset[i]\n",
    "    if sample is None:\n",
    "        continue\n",
    "    elif \"text\" not in sample or \"label\" not in sample:\n",
    "        print(f\"Skipping index {i} due to missing fields.\")\n",
    "        continue\n",
    "    texts.append(sample[\"text\"])\n",
    "    labels.append(sample[\"label\"])\n",
    "\n",
    "# Split the data into training and testing sets\n",
    "X_train, X_test, y_train, y_test = train_test_split(\n",
    "    texts, labels, test_size=0.2, random_state=42\n",
    ")\n",
    "X_dataset = list(zip(X_train, y_train))"
   ]
  },
  {
   "cell_type": "code",
   "execution_count": 5,
   "metadata": {},
   "outputs": [],
   "source": [
    "generated_dataset = []\n",
    "for i in range(len(X_dataset)):\n",
    "    sample = X_dataset[i]\n",
    "    prompt = X_dataset[i][0]\n",
    "    label = X_dataset[i][1]\n",
    "    \n",
    "    # Generate its pair\n",
    "    pairs = chatbot_dataset.get_formality_pairs(formality_type=label, prompt=prompt)\n",
    "    \n",
    "    generated_dataset.append(pairs)\n",
    "\n",
    "X_generated_train = [pair[0] for pair in generated_dataset for pair in pair]\n",
    "y_generated_train = [pair[1] for pair in generated_dataset for pair in pair]\n",
    "\n",
    "# Export the generated dataset to a CSV file\n",
    "generated_df = pd.DataFrame({\n",
    "    \"text\": X_generated_train,\n",
    "    \"label\": y_generated_train\n",
    "})\n",
    "generated_df.to_csv(\"generated_dataset.csv\", index=False)"
   ]
  },
  {
   "cell_type": "code",
   "execution_count": 6,
   "metadata": {},
   "outputs": [
    {
     "name": "stdout",
     "output_type": "stream",
     "text": [
      "Using device: cuda\n"
     ]
    },
    {
     "data": {
      "application/vnd.jupyter.widget-view+json": {
       "model_id": "d04402dec7fe46a5877aa6a4dcc6a4b3",
       "version_major": 2,
       "version_minor": 0
      },
      "text/plain": [
       "Loading checkpoint shards:   0%|          | 0/6 [00:00<?, ?it/s]"
      ]
     },
     "metadata": {},
     "output_type": "display_data"
    },
    {
     "name": "stderr",
     "output_type": "stream",
     "text": [
      "Device set to use cuda:0\n"
     ]
    }
   ],
   "source": [
    "# Get device for computation\n",
    "device = torch.device(\n",
    "    \"cuda\"\n",
    "    if torch.cuda.is_available()\n",
    "    else \"mps\"\n",
    "    if torch.backends.mps.is_available()\n",
    "    else \"cpu\"\n",
    ")\n",
    "print(f\"Using device: {device}\")\n",
    "\n",
    "pipeline = transformers.pipeline(\n",
    "    \"text-generation\",\n",
    "    model=\"microsoft/phi-4\",\n",
    "    model_kwargs={\"torch_dtype\": \"auto\"},\n",
    "    device_map=\"auto\",\n",
    ")"
   ]
  },
  {
   "cell_type": "code",
   "execution_count": 7,
   "metadata": {},
   "outputs": [],
   "source": [
    "# Define a function to extract features from text\n",
    "def extract_features(model, tokenizer, texts, layer_idx):\n",
    "    # Move model to the correct device if not already there\n",
    "    model_device = next(model.parameters()).device\n",
    "    if model_device != device:\n",
    "        model = model.to(device)\n",
    "\n",
    "    features = []\n",
    "    batch_size = 16  # Adjust based on your GPU/memory\n",
    "\n",
    "    for i in range(0, len(texts), batch_size):\n",
    "        batch_texts = texts[i : i + batch_size]\n",
    "        # Tokenize the texts\n",
    "        inputs = tokenizer(\n",
    "            batch_texts,\n",
    "            return_tensors=\"pt\",\n",
    "            padding=True,\n",
    "            truncation=True,\n",
    "            max_length=512,\n",
    "        )\n",
    "        inputs = {k: v.to(device) for k, v in inputs.items()}\n",
    "\n",
    "        # Get model outputs with no gradient computation\n",
    "        with torch.no_grad():\n",
    "            outputs = model(**inputs, output_hidden_states=True)\n",
    "\n",
    "        # Extract hidden states from the specified layer\n",
    "        # For phi-4 model, access the proper hidden states format\n",
    "        if hasattr(outputs, \"hidden_states\"):\n",
    "            hidden_states = outputs.hidden_states[layer_idx]\n",
    "        else:\n",
    "            # If hidden_states is a tuple, access it directly\n",
    "            hidden_states = outputs[2][layer_idx]\n",
    "        hidden_states = hidden_states.to(torch.float32)\n",
    "\n",
    "        # Average across the token dimension to get a fixed-size representation\n",
    "        batch_features = hidden_states.mean(dim=1)\n",
    "        batch_features_cpu = batch_features.cpu().numpy()\n",
    "        features.append(batch_features_cpu)\n",
    "\n",
    "    return np.vstack(features)\n",
    "\n",
    "\n",
    "# Define a function to perform linear probing for a specified layer\n",
    "def linear_probe_layer(model, tokenizer, X_train, y_train, X_test, y_test, layer_idx):\n",
    "    # Extract features for training and testing sets\n",
    "    train_features = extract_features(model, tokenizer, X_train, layer_idx)\n",
    "    test_features = extract_features(model, tokenizer, X_test, layer_idx)\n",
    "\n",
    "    # Convert string labels to binary (1 for formal, 0 for informal)\n",
    "    y_train_binary = y_train\n",
    "    y_test_binary = y_test\n",
    "\n",
    "    # Train a logistic regression classifier\n",
    "    clf = LogisticRegression(max_iter=1000, random_state=42)\n",
    "    clf.fit(train_features, y_train_binary)\n",
    "\n",
    "    # Evaluate on training and testing data\n",
    "    train_preds = clf.predict(train_features)\n",
    "    test_preds = clf.predict(test_features)\n",
    "\n",
    "    train_acc = accuracy_score(y_train_binary, train_preds)\n",
    "    test_acc = accuracy_score(y_test_binary, test_preds)\n",
    "\n",
    "    return {\"layer\": layer_idx, \"train_accuracy\": train_acc, \"test_accuracy\": test_acc}\n",
    "\n",
    "\n",
    "# Define a function to perform linear probing across all layers\n",
    "def linear_probe_all_layers(model, tokenizer, X_train, y_train, X_test, y_test):\n",
    "    results = []\n",
    "    num_layers = model.config.num_hidden_layers + 1  # +1 for the embedding layer\n",
    "\n",
    "    for layer_idx in range(num_layers):\n",
    "        print(f\"Probing layer {layer_idx}/{num_layers - 1}...\")\n",
    "        result = linear_probe_layer(\n",
    "            model, tokenizer, X_train, y_train, X_test, y_test, layer_idx\n",
    "        )\n",
    "        results.append(result)\n",
    "        print(\n",
    "            f\"Layer {layer_idx}: Train acc = {result['train_accuracy']:.4f}, Test acc = {result['test_accuracy']:.4f}\"\n",
    "        )\n",
    "\n",
    "    return results"
   ]
  },
  {
   "cell_type": "code",
   "execution_count": 8,
   "metadata": {},
   "outputs": [
    {
     "name": "stdout",
     "output_type": "stream",
     "text": [
      "Probing layer 0/40...\n",
      "Layer 0: Train acc = 0.5898, Test acc = 0.7812\n",
      "Probing layer 1/40...\n",
      "Layer 1: Train acc = 0.8242, Test acc = 0.8125\n",
      "Probing layer 2/40...\n",
      "Layer 2: Train acc = 0.8984, Test acc = 0.7812\n",
      "Probing layer 3/40...\n",
      "Layer 3: Train acc = 0.9570, Test acc = 0.8125\n",
      "Probing layer 4/40...\n",
      "Layer 4: Train acc = 0.9844, Test acc = 0.7500\n",
      "Probing layer 5/40...\n",
      "Layer 5: Train acc = 0.9922, Test acc = 0.7188\n",
      "Probing layer 6/40...\n",
      "Layer 6: Train acc = 1.0000, Test acc = 0.7500\n",
      "Probing layer 7/40...\n",
      "Layer 7: Train acc = 1.0000, Test acc = 0.8125\n",
      "Probing layer 8/40...\n",
      "Layer 8: Train acc = 1.0000, Test acc = 0.8125\n",
      "Probing layer 9/40...\n",
      "Layer 9: Train acc = 1.0000, Test acc = 0.7812\n",
      "Probing layer 10/40...\n",
      "Layer 10: Train acc = 1.0000, Test acc = 0.8125\n",
      "Probing layer 11/40...\n",
      "Layer 11: Train acc = 1.0000, Test acc = 0.8438\n",
      "Probing layer 12/40...\n",
      "Layer 12: Train acc = 1.0000, Test acc = 0.8438\n",
      "Probing layer 13/40...\n",
      "Layer 13: Train acc = 1.0000, Test acc = 0.7812\n",
      "Probing layer 14/40...\n",
      "Layer 14: Train acc = 1.0000, Test acc = 0.8125\n",
      "Probing layer 15/40...\n",
      "Layer 15: Train acc = 1.0000, Test acc = 0.8125\n",
      "Probing layer 16/40...\n",
      "Layer 16: Train acc = 1.0000, Test acc = 0.8438\n",
      "Probing layer 17/40...\n",
      "Layer 17: Train acc = 1.0000, Test acc = 0.8750\n",
      "Probing layer 18/40...\n",
      "Layer 18: Train acc = 1.0000, Test acc = 0.8750\n",
      "Probing layer 19/40...\n",
      "Layer 19: Train acc = 1.0000, Test acc = 0.8750\n",
      "Probing layer 20/40...\n",
      "Layer 20: Train acc = 1.0000, Test acc = 0.8125\n",
      "Probing layer 21/40...\n",
      "Layer 21: Train acc = 1.0000, Test acc = 0.8125\n",
      "Probing layer 22/40...\n",
      "Layer 22: Train acc = 1.0000, Test acc = 0.8438\n",
      "Probing layer 23/40...\n",
      "Layer 23: Train acc = 1.0000, Test acc = 0.8438\n",
      "Probing layer 24/40...\n",
      "Layer 24: Train acc = 1.0000, Test acc = 0.8125\n",
      "Probing layer 25/40...\n",
      "Layer 25: Train acc = 1.0000, Test acc = 0.8438\n",
      "Probing layer 26/40...\n",
      "Layer 26: Train acc = 1.0000, Test acc = 0.7812\n",
      "Probing layer 27/40...\n",
      "Layer 27: Train acc = 1.0000, Test acc = 0.7812\n",
      "Probing layer 28/40...\n",
      "Layer 28: Train acc = 1.0000, Test acc = 0.8125\n",
      "Probing layer 29/40...\n",
      "Layer 29: Train acc = 1.0000, Test acc = 0.7812\n",
      "Probing layer 30/40...\n",
      "Layer 30: Train acc = 1.0000, Test acc = 0.7812\n",
      "Probing layer 31/40...\n",
      "Layer 31: Train acc = 1.0000, Test acc = 0.8125\n",
      "Probing layer 32/40...\n",
      "Layer 32: Train acc = 1.0000, Test acc = 0.8125\n",
      "Probing layer 33/40...\n",
      "Layer 33: Train acc = 1.0000, Test acc = 0.8125\n",
      "Probing layer 34/40...\n",
      "Layer 34: Train acc = 1.0000, Test acc = 0.8125\n",
      "Probing layer 35/40...\n",
      "Layer 35: Train acc = 1.0000, Test acc = 0.8125\n",
      "Probing layer 36/40...\n",
      "Layer 36: Train acc = 1.0000, Test acc = 0.8125\n",
      "Probing layer 37/40...\n",
      "Layer 37: Train acc = 1.0000, Test acc = 0.8125\n",
      "Probing layer 38/40...\n",
      "Layer 38: Train acc = 1.0000, Test acc = 0.7188\n",
      "Probing layer 39/40...\n",
      "Layer 39: Train acc = 1.0000, Test acc = 0.7500\n",
      "Probing layer 40/40...\n",
      "Layer 40: Train acc = 1.0000, Test acc = 0.7812\n"
     ]
    }
   ],
   "source": [
    "# Perform linear probing across all layers\n",
    "probe_results = linear_probe_all_layers(pipeline.model, pipeline.tokenizer, X_generated_train, y_generated_train, X_test, y_test)"
   ]
  },
  {
   "cell_type": "code",
   "execution_count": 9,
   "metadata": {},
   "outputs": [
    {
     "data": {
      "image/png": "[encoded data removed]",
      "text/plain": [
       "<Figure size 1200x600 with 1 Axes>"
      ]
     },
     "metadata": {},
     "output_type": "display_data"
    }
   ],
   "source": [
    "# Extract results for plotting\n",
    "layers = [result[\"layer\"] for result in probe_results]\n",
    "train_accs = [result[\"train_accuracy\"] for result in probe_results]\n",
    "test_accs = [result[\"test_accuracy\"] for result in probe_results]\n",
    "\n",
    "# Plot the results\n",
    "plt.figure(figsize=(12, 6))\n",
    "plt.plot(layers, train_accs, marker='o', label='Training Accuracy')\n",
    "plt.plot(layers, test_accs, marker='s', label='Testing Accuracy')\n",
    "plt.title('Linear Probe Accuracy Across Phi-4 Layers')\n",
    "plt.xlabel('Layer')\n",
    "plt.ylabel('Accuracy')\n",
    "plt.xticks(layers)\n",
    "plt.legend()\n",
    "plt.grid(True)\n",
    "plt.tight_layout()\n",
    "plt.show()"
   ]
  },
  {
   "cell_type": "markdown",
   "metadata": {},
   "source": [
    "## Analysis of Results"
   ]
  },
  {
   "cell_type": "code",
   "execution_count": 10,
   "metadata": {},
   "outputs": [
    {
     "name": "stdout",
     "output_type": "stream",
     "text": [
      "Best performance at layer 17 with test accuracy: 0.8750\n"
     ]
    }
   ],
   "source": [
    "# Find the layer with the best test accuracy\n",
    "best_layer_idx = np.argmax(test_accs)\n",
    "best_layer = layers[best_layer_idx]\n",
    "best_accuracy = test_accs[best_layer_idx]\n",
    "\n",
    "print(f\"Best performance at layer {best_layer} with test accuracy: {best_accuracy:.4f}\")"
   ]
  },
  {
   "cell_type": "code",
   "execution_count": null,
   "metadata": {},
   "outputs": [],
   "source": []
  }
 ],
 "metadata": {
  "kernelspec": {
   "display_name": "Python (uv)",
   "language": "python",
   "name": "uv-env"
  },
  "language_info": {
   "codemirror_mode": {
    "name": "ipython",
    "version": 3
   },
   "file_extension": ".py",
   "mimetype": "text/x-python",
   "name": "python",
   "nbconvert_exporter": "python",
   "pygments_lexer": "ipython3",
   "version": "3.11.11"
  }
 },
 "nbformat": 4,
 "nbformat_minor": 2
}
