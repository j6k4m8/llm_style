{
 "cells": [
  {
   "cell_type": "code",
   "execution_count": 1,
   "id": "6f86791a",
   "metadata": {},
   "outputs": [],
   "source": [
    "import pandas as pd\n",
    "import csv\n"
   ]
  },
  {
   "cell_type": "code",
   "execution_count": 2,
   "id": "79db9802",
   "metadata": {},
   "outputs": [],
   "source": [
    "\n",
    "# Samples by hand\n",
    "formal_informal_pairs = [\n",
    "    (\"I would appreciate it if you could assist me with this matter.\", \"can u help me with this?\"),\n",
    "    (\"I believe that is not an appropriate course of action.\", \"thats not cool man\"),\n",
    "    (\"I am inquiring about your availability this weekend.\", \"u free this weekend?\"),\n",
    "    (\"Please let me know your thoughts on this proposal.\", \"what do u think bout this?\"),\n",
    "    (\"I am unable to attend the event due to prior commitments.\", \"cant make it, got stuff to do\"),\n",
    "    (\"It would be beneficial to discuss this in person.\", \"we should talk face to face\"),\n",
    "    (\"I respectfully disagree with your assessment.\", \"no way, ur wrong\"),\n",
    "    (\"Could you please provide more information on this topic?\", \"gimme more info on this\"),\n",
    "    (\"I am considering your suggestion carefully.\", \"thinking bout what u said\"),\n",
    "    (\"The performance exceeded my expectations.\", \"that was way better than i thought\")\n",
    "]\n"
   ]
  },
  {
   "cell_type": "code",
   "execution_count": 3,
   "id": "c6921196",
   "metadata": {},
   "outputs": [
    {
     "name": "stdout",
     "output_type": "stream",
     "text": [
      "CSV file created: ../data/handcoded_formality_examples.csv\n"
     ]
    }
   ],
   "source": [
    "\n",
    "# Create a DataFrame\n",
    "df = pd.DataFrame(formal_informal_pairs, columns=['formal', 'informal'])\n",
    "\n",
    "# Save to CSV\n",
    "csv_filename = '../data/handcoded_formality_examples.csv'\n",
    "df.to_csv(csv_filename, index=False, quoting=csv.QUOTE_ALL)\n",
    "\n",
    "print(f\"CSV file created: {csv_filename}\")"
   ]
  }
 ],
 "metadata": {
  "kernelspec": {
   "display_name": ".venv",
   "language": "python",
   "name": "python3"
  },
  "language_info": {
   "codemirror_mode": {
    "name": "ipython",
    "version": 3
   },
   "file_extension": ".py",
   "mimetype": "text/x-python",
   "name": "python",
   "nbconvert_exporter": "python",
   "pygments_lexer": "ipython3",
   "version": "3.11.9"
  }
 },
 "nbformat": 4,
 "nbformat_minor": 5
}
