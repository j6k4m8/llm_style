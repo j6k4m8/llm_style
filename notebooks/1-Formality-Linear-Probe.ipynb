{
 "cells": [
  {
   "cell_type": "markdown",
   "id": "0ff14cd9",
   "metadata": {},
   "source": [
    "# Formality Linear Probes\n",
    "\n",
    "This notebook uses Linear Probes (LP) to analyze the location(s) in a large language model (Phi-4) at which formality level can be linearly decoded.\n",
    "\n",
    "## Resources\n",
    "\n",
    "* Dataset: https://huggingface.co/datasets/osyvokon/pavlick-formality-scores\n",
    "* LLM: https://huggingface.co/microsoft/phi-4"
   ]
  },
  {
   "cell_type": "code",
   "execution_count": 1,
   "id": "2269a43e",
   "metadata": {},
   "outputs": [],
   "source": [
    "import pandas as pd\n",
    "import transformers\n",
    "from llm_style.formality_dataset import FormalityDataset"
   ]
  },
  {
   "cell_type": "code",
   "execution_count": 2,
   "id": "20010efd",
   "metadata": {},
   "outputs": [],
   "source": [
    "dataset = FormalityDataset.from_contrastive_samples(\n",
    "    pd.read_csv(\"../data/handcoded_formality_examples.csv\").to_dict(orient=\"records\"),\n",
    "    return_float_labels=True,\n",
    ")"
   ]
  },
  {
   "cell_type": "code",
   "execution_count": 3,
   "id": "5001129f",
   "metadata": {},
   "outputs": [
    {
     "data": {
      "application/vnd.jupyter.widget-view+json": {
       "model_id": "03f345b52b9c4bae9264017871b76e1c",
       "version_major": 2,
       "version_minor": 0
      },
      "text/plain": [
       "Loading checkpoint shards:   0%|          | 0/6 [00:00<?, ?it/s]"
      ]
     },
     "metadata": {},
     "output_type": "display_data"
    },
    {
     "name": "stderr",
     "output_type": "stream",
     "text": [
      "Device set to use mps\n"
     ]
    }
   ],
   "source": [
    "pipeline = transformers.pipeline(\n",
    "    \"text-generation\",\n",
    "    model=\"microsoft/phi-4\",\n",
    "    model_kwargs={\"torch_dtype\": \"auto\"},\n",
    "    device_map=\"auto\",\n",
    ")\n"
   ]
  },
  {
   "cell_type": "code",
   "execution_count": 4,
   "id": "3792e0c7",
   "metadata": {},
   "outputs": [],
   "source": [
    "# How to do inference:\n",
    "\n",
    "\n",
    "# messages = [\n",
    "#     {\n",
    "#         \"role\": \"system\",\n",
    "#         \"content\": \"You are a medieval knight and must provide explanations to modern people.\",\n",
    "#     },\n",
    "#     {\"role\": \"user\", \"content\": \"How should I explain the Internet?\"},\n",
    "# ]\n",
    "\n",
    "# outputs = pipeline(messages, max_new_tokens=1)\n",
    "# print(outputs[0][\"generated_text\"][-1])\n"
   ]
  },
  {
   "cell_type": "code",
   "execution_count": 5,
   "id": "55db299e",
   "metadata": {},
   "outputs": [],
   "source": [
    "import matplotlib.pyplot as plt\n",
    "import numpy as np\n",
    "import torch"
   ]
  },
  {
   "cell_type": "code",
   "execution_count": 6,
   "id": "a3f61647",
   "metadata": {},
   "outputs": [
    {
     "name": "stdout",
     "output_type": "stream",
     "text": [
      "Using device: mps\n"
     ]
    }
   ],
   "source": [
    "from sklearn.linear_model import LogisticRegression\n",
    "from sklearn.metrics import accuracy_score\n",
    "from sklearn.model_selection import train_test_split\n",
    "\n",
    "# Get device for computation\n",
    "device = torch.device(\"cuda\" if torch.cuda.is_available() else \"mps\" if torch.backends.mps.is_available() else \"cpu\")\n",
    "print(f\"Using device: {device}\")\n",
    "\n",
    "# Extract texts and labels from the dataset\n",
    "texts = [sample[\"text\"] for sample in dataset]\n",
    "labels = [sample[\"label\"] for sample in dataset]\n",
    "\n",
    "# Split the data into training and testing sets\n",
    "X_train, X_test, y_train, y_test = train_test_split(\n",
    "    texts, labels, test_size=0.2, random_state=42\n",
    ")\n",
    "\n",
    "# Define a function to extract features from text\n",
    "def extract_features(model, tokenizer, texts, layer_idx):\n",
    "    # Move model to the correct device if not already there\n",
    "    model_device = next(model.parameters()).device\n",
    "    if model_device != device:\n",
    "        model = model.to(device)\n",
    "\n",
    "    features = []\n",
    "    batch_size = 16  # Adjust based on your GPU/memory\n",
    "\n",
    "    for i in range(0, len(texts), batch_size):\n",
    "        batch_texts = texts[i:i+batch_size]\n",
    "        # Tokenize the texts\n",
    "        inputs = tokenizer(batch_texts, return_tensors=\"pt\", padding=True, truncation=True, max_length=512)\n",
    "        inputs = {k: v.to(device) for k, v in inputs.items()}\n",
    "\n",
    "        # Get model outputs with no gradient computation\n",
    "        with torch.no_grad():\n",
    "            outputs = model(**inputs, output_hidden_states=True)\n",
    "\n",
    "        # Extract hidden states from the specified layer\n",
    "        # For phi-4 model, access the proper hidden states format\n",
    "        if hasattr(outputs, 'hidden_states'):\n",
    "            hidden_states = outputs.hidden_states[layer_idx]\n",
    "        else:\n",
    "            # If hidden_states is a tuple, access it directly\n",
    "            hidden_states = outputs[2][layer_idx]\n",
    "        hidden_states = hidden_states.to(torch.float32)\n",
    "\n",
    "        # Average across the token dimension to get a fixed-size representation\n",
    "        batch_features = hidden_states.mean(dim=1)\n",
    "        batch_features_cpu = batch_features.cpu().numpy()\n",
    "        features.append(batch_features_cpu)\n",
    "\n",
    "    return np.vstack(features)\n",
    "\n",
    "# Define a function to perform linear probing for a specified layer\n",
    "def linear_probe_layer(model, tokenizer, X_train, y_train, X_test, y_test, layer_idx):\n",
    "    # Extract features for training and testing sets\n",
    "    train_features = extract_features(model, tokenizer, X_train, layer_idx)\n",
    "    test_features = extract_features(model, tokenizer, X_test, layer_idx)\n",
    "\n",
    "    # Convert string labels to binary (1 for formal, 0 for informal)\n",
    "    y_train_binary = y_train\n",
    "    y_test_binary = y_test\n",
    "\n",
    "    # Train a logistic regression classifier\n",
    "    clf = LogisticRegression(max_iter=1000, random_state=42)\n",
    "    clf.fit(train_features, y_train_binary)\n",
    "\n",
    "    # Evaluate on training and testing data\n",
    "    train_preds = clf.predict(train_features)\n",
    "    test_preds = clf.predict(test_features)\n",
    "\n",
    "    train_acc = accuracy_score(y_train_binary, train_preds)\n",
    "    test_acc = accuracy_score(y_test_binary, test_preds)\n",
    "\n",
    "    return {\n",
    "        \"layer\": layer_idx,\n",
    "        \"train_accuracy\": train_acc,\n",
    "        \"test_accuracy\": test_acc\n",
    "    }\n",
    "\n",
    "# Define a function to perform linear probing across all layers\n",
    "def linear_probe_all_layers(model, tokenizer, X_train, y_train, X_test, y_test):\n",
    "    results = []\n",
    "    num_layers = model.config.num_hidden_layers + 1  # +1 for the embedding layer\n",
    "\n",
    "    for layer_idx in range(num_layers):\n",
    "        print(f\"Probing layer {layer_idx}/{num_layers-1}...\")\n",
    "        result = linear_probe_layer(model, tokenizer, X_train, y_train, X_test, y_test, layer_idx)\n",
    "        results.append(result)\n",
    "        print(f\"Layer {layer_idx}: Train acc = {result['train_accuracy']:.4f}, Test acc = {result['test_accuracy']:.4f}\")\n",
    "\n",
    "    return results\n"
   ]
  },
  {
   "cell_type": "code",
   "execution_count": 7,
   "id": "1492f90f",
   "metadata": {},
   "outputs": [
    {
     "name": "stdout",
     "output_type": "stream",
     "text": [
      "Probing layer 0/40...\n",
      "Layer 0: Train acc = 0.5625, Test acc = 0.2500\n",
      "Probing layer 1/40...\n",
      "Layer 1: Train acc = 1.0000, Test acc = 1.0000\n",
      "Probing layer 2/40...\n",
      "Layer 2: Train acc = 1.0000, Test acc = 1.0000\n",
      "Probing layer 3/40...\n",
      "Layer 3: Train acc = 1.0000, Test acc = 1.0000\n",
      "Probing layer 4/40...\n",
      "Layer 4: Train acc = 1.0000, Test acc = 1.0000\n",
      "Probing layer 5/40...\n",
      "Layer 5: Train acc = 1.0000, Test acc = 1.0000\n",
      "Probing layer 6/40...\n",
      "Layer 6: Train acc = 1.0000, Test acc = 1.0000\n",
      "Probing layer 7/40...\n",
      "Layer 7: Train acc = 1.0000, Test acc = 1.0000\n",
      "Probing layer 8/40...\n",
      "Layer 8: Train acc = 1.0000, Test acc = 1.0000\n",
      "Probing layer 9/40...\n",
      "Layer 9: Train acc = 1.0000, Test acc = 1.0000\n",
      "Probing layer 10/40...\n",
      "Layer 10: Train acc = 1.0000, Test acc = 1.0000\n",
      "Probing layer 11/40...\n",
      "Layer 11: Train acc = 1.0000, Test acc = 1.0000\n",
      "Probing layer 12/40...\n",
      "Layer 12: Train acc = 1.0000, Test acc = 1.0000\n",
      "Probing layer 13/40...\n",
      "Layer 13: Train acc = 1.0000, Test acc = 1.0000\n",
      "Probing layer 14/40...\n",
      "Layer 14: Train acc = 1.0000, Test acc = 1.0000\n",
      "Probing layer 15/40...\n",
      "Layer 15: Train acc = 1.0000, Test acc = 1.0000\n",
      "Probing layer 16/40...\n",
      "Layer 16: Train acc = 1.0000, Test acc = 1.0000\n",
      "Probing layer 17/40...\n",
      "Layer 17: Train acc = 1.0000, Test acc = 1.0000\n",
      "Probing layer 18/40...\n",
      "Layer 18: Train acc = 1.0000, Test acc = 1.0000\n",
      "Probing layer 19/40...\n",
      "Layer 19: Train acc = 1.0000, Test acc = 1.0000\n",
      "Probing layer 20/40...\n",
      "Layer 20: Train acc = 1.0000, Test acc = 1.0000\n",
      "Probing layer 21/40...\n",
      "Layer 21: Train acc = 1.0000, Test acc = 1.0000\n",
      "Probing layer 22/40...\n",
      "Layer 22: Train acc = 1.0000, Test acc = 1.0000\n",
      "Probing layer 23/40...\n",
      "Layer 23: Train acc = 1.0000, Test acc = 1.0000\n",
      "Probing layer 24/40...\n",
      "Layer 24: Train acc = 1.0000, Test acc = 1.0000\n",
      "Probing layer 25/40...\n",
      "Layer 25: Train acc = 1.0000, Test acc = 1.0000\n",
      "Probing layer 26/40...\n",
      "Layer 26: Train acc = 1.0000, Test acc = 1.0000\n",
      "Probing layer 27/40...\n",
      "Layer 27: Train acc = 1.0000, Test acc = 1.0000\n",
      "Probing layer 28/40...\n",
      "Layer 28: Train acc = 1.0000, Test acc = 1.0000\n",
      "Probing layer 29/40...\n",
      "Layer 29: Train acc = 1.0000, Test acc = 1.0000\n",
      "Probing layer 30/40...\n",
      "Layer 30: Train acc = 1.0000, Test acc = 1.0000\n",
      "Probing layer 31/40...\n",
      "Layer 31: Train acc = 1.0000, Test acc = 1.0000\n",
      "Probing layer 32/40...\n",
      "Layer 32: Train acc = 1.0000, Test acc = 1.0000\n",
      "Probing layer 33/40...\n",
      "Layer 33: Train acc = 1.0000, Test acc = 1.0000\n",
      "Probing layer 34/40...\n",
      "Layer 34: Train acc = 1.0000, Test acc = 1.0000\n",
      "Probing layer 35/40...\n",
      "Layer 35: Train acc = 1.0000, Test acc = 1.0000\n",
      "Probing layer 36/40...\n",
      "Layer 36: Train acc = 1.0000, Test acc = 1.0000\n",
      "Probing layer 37/40...\n",
      "Layer 37: Train acc = 1.0000, Test acc = 1.0000\n",
      "Probing layer 38/40...\n",
      "Layer 38: Train acc = 1.0000, Test acc = 1.0000\n",
      "Probing layer 39/40...\n",
      "Layer 39: Train acc = 1.0000, Test acc = 1.0000\n",
      "Probing layer 40/40...\n",
      "Layer 40: Train acc = 1.0000, Test acc = 1.0000\n"
     ]
    }
   ],
   "source": [
    "# Perform linear probing across all layers\n",
    "probe_results = linear_probe_all_layers(pipeline.model, pipeline.tokenizer, X_train, y_train, X_test, y_test)"
   ]
  },
  {
   "cell_type": "code",
   "execution_count": 8,
   "id": "5011f882",
   "metadata": {},
   "outputs": [
    {
     "data": {
      "image/png": "[encoded data removed]",
      "text/plain": [
       "<Figure size 1200x600 with 1 Axes>"
      ]
     },
     "metadata": {},
     "output_type": "display_data"
    }
   ],
   "source": [
    "# Extract results for plotting\n",
    "layers = [result[\"layer\"] for result in probe_results]\n",
    "train_accs = [result[\"train_accuracy\"] for result in probe_results]\n",
    "test_accs = [result[\"test_accuracy\"] for result in probe_results]\n",
    "\n",
    "# Plot the results\n",
    "plt.figure(figsize=(12, 6))\n",
    "plt.plot(layers, train_accs, marker='o', label='Training Accuracy')\n",
    "plt.plot(layers, test_accs, marker='s', label='Testing Accuracy')\n",
    "plt.title('Linear Probe Accuracy Across Phi-4 Layers')\n",
    "plt.xlabel('Layer')\n",
    "plt.ylabel('Accuracy')\n",
    "plt.xticks(layers)\n",
    "plt.legend()\n",
    "plt.grid(True)\n",
    "plt.tight_layout()\n",
    "plt.show()"
   ]
  },
  {
   "cell_type": "markdown",
   "id": "2fb889c4",
   "metadata": {},
   "source": [
    "## Analysis of Results\n",
    "\n",
    "The plot above shows how well we can predict formality from different layers of the Phi-4 model. Here are some key observations:\n",
    "\n",
    "1. **Early vs Late Layers**: Compare how accuracy changes from early layers (close to input) to later layers (close to output).\n",
    "2. **Training vs Testing Performance**: The gap between training and testing accuracy indicates how well the probe generalizes.\n",
    "3. **Peak Performance**: The layer with the highest testing accuracy indicates where formality information is most linearly accessible.\n",
    "\n",
    "This analysis helps us understand how and where the model encodes stylistic properties like formality."
   ]
  },
  {
   "cell_type": "code",
   "execution_count": 9,
   "id": "63e4e0b2",
   "metadata": {},
   "outputs": [
    {
     "name": "stdout",
     "output_type": "stream",
     "text": [
      "Best performance at layer 1 with test accuracy: 1.0000\n"
     ]
    }
   ],
   "source": [
    "# Find the layer with the best test accuracy\n",
    "best_layer_idx = np.argmax(test_accs)\n",
    "best_layer = layers[best_layer_idx]\n",
    "best_accuracy = test_accs[best_layer_idx]\n",
    "\n",
    "print(f\"Best performance at layer {best_layer} with test accuracy: {best_accuracy:.4f}\")"
   ]
  }
 ],
 "metadata": {
  "kernelspec": {
   "display_name": ".venv",
   "language": "python",
   "name": "python3"
  },
  "language_info": {
   "codemirror_mode": {
    "name": "ipython",
    "version": 3
   },
   "file_extension": ".py",
   "mimetype": "text/x-python",
   "name": "python",
   "nbconvert_exporter": "python",
   "pygments_lexer": "ipython3",
   "version": "3.11.9"
  }
 },
 "nbformat": 4,
 "nbformat_minor": 5
}
