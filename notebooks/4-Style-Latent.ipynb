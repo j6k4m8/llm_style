{
 "cells": [
  {
   "cell_type": "code",
   "execution_count": 1,
   "id": "040dc41f",
   "metadata": {},
   "outputs": [],
   "source": [
    "import matplotlib.pyplot as plt\n",
    "import numpy as np\n",
    "import torch\n",
    "from torch import nn\n",
    "import pandas as pd\n",
    "import transformers\n",
    "from sklearn.linear_model import LogisticRegression\n",
    "from sklearn.metrics import accuracy_score\n",
    "from sklearn.model_selection import train_test_split\n",
    "from llm_style.formality_dataset import FormalityDataset, PavlickFormalityDataset\n",
    "from llm_style.domain_dataset import DomainDataset, DomainType\n"
   ]
  },
  {
   "cell_type": "code",
   "execution_count": 2,
   "id": "3bc68eb1",
   "metadata": {},
   "outputs": [],
   "source": [
    "dataset = DomainDataset(mode=\"int\")"
   ]
  },
  {
   "cell_type": "code",
   "execution_count": 3,
   "id": "34f0fbd8",
   "metadata": {},
   "outputs": [
    {
     "data": {
      "application/vnd.jupyter.widget-view+json": {
       "model_id": "4d3feea9b3fd455ba3ea5bed6ecdc643",
       "version_major": 2,
       "version_minor": 0
      },
      "text/plain": [
       "Loading checkpoint shards:   0%|          | 0/6 [00:00<?, ?it/s]"
      ]
     },
     "metadata": {},
     "output_type": "display_data"
    },
    {
     "name": "stderr",
     "output_type": "stream",
     "text": [
      "Device set to use mps\n"
     ]
    }
   ],
   "source": [
    "pipeline = transformers.pipeline(\n",
    "    \"text-generation\",\n",
    "    model=\"microsoft/phi-4\",\n",
    "    model_kwargs={\"torch_dtype\": \"auto\"},\n",
    "    device_map=\"auto\",\n",
    ")\n"
   ]
  },
  {
   "cell_type": "code",
   "execution_count": 4,
   "id": "0216a079",
   "metadata": {},
   "outputs": [
    {
     "name": "stdout",
     "output_type": "stream",
     "text": [
      "Using device: mps\n"
     ]
    }
   ],
   "source": [
    "# Get device for computation\n",
    "device = torch.device(\n",
    "    \"cuda\"\n",
    "    if torch.cuda.is_available()\n",
    "    else \"mps\"\n",
    "    if torch.backends.mps.is_available()\n",
    "    else \"cpu\"\n",
    ")\n",
    "print(f\"Using device: {device}\")\n",
    "\n",
    "# Extract texts and labels from the dataset\n",
    "texts = []\n",
    "labels = []\n",
    "for i in range(0, 250):\n",
    "    # if i >= len(dataset):\n",
    "    #     break\n",
    "    sample = dataset[i]\n",
    "    if \"text\" not in sample or \"label\" not in sample:\n",
    "        print(f\"Skipping index {i} due to missing fields.\")\n",
    "        continue\n",
    "    texts.append(sample[\"text\"])\n",
    "    labels.append(sample[\"label\"])\n",
    "\n",
    "# Split the data into training and testing sets\n",
    "X_train, X_test, y_train, y_test = train_test_split(\n",
    "    texts, labels, test_size=0.2, random_state=42\n",
    ")\n",
    "\n",
    "\n",
    "# Define a function to extract features from text\n",
    "def extract_features(model, tokenizer, texts, layer_idx):\n",
    "    # Move model to the correct device if not already there\n",
    "    # model_device = next(model.parameters()).device\n",
    "    # if model_device != device:\n",
    "    #     model = model.to(device)\n",
    "\n",
    "    features = []\n",
    "    batch_size = 16  # Adjust based on your GPU/memory\n",
    "\n",
    "    for i in range(0, len(texts), batch_size):\n",
    "        batch_texts = texts[i : i + batch_size]\n",
    "        # Tokenize the texts\n",
    "        inputs = tokenizer(\n",
    "            batch_texts,\n",
    "            return_tensors=\"pt\",\n",
    "            padding=True,\n",
    "            truncation=True,\n",
    "            max_length=512,\n",
    "        )\n",
    "        inputs = {k: v.to(device) for k, v in inputs.items()}\n",
    "\n",
    "        # Get model outputs with no gradient computation\n",
    "        with torch.no_grad():\n",
    "            outputs = model(**inputs, output_hidden_states=True)\n",
    "\n",
    "        # Extract hidden states from the specified layer\n",
    "        # For phi-4 model, access the proper hidden states format\n",
    "        if hasattr(outputs, \"hidden_states\"):\n",
    "            hidden_states = outputs.hidden_states[layer_idx]\n",
    "        else:\n",
    "            # If hidden_states is a tuple, access it directly\n",
    "            hidden_states = outputs[2][layer_idx]\n",
    "        hidden_states = hidden_states.to(torch.float32)\n",
    "\n",
    "        # Average across the token dimension to get a fixed-size representation\n",
    "        batch_features = hidden_states.mean(dim=1)\n",
    "        batch_features_cpu = batch_features.cpu().numpy()\n",
    "        features.append(batch_features_cpu)\n",
    "\n",
    "    return np.vstack(features)\n",
    "\n"
   ]
  },
  {
   "cell_type": "code",
   "execution_count": 5,
   "id": "9555e928",
   "metadata": {},
   "outputs": [],
   "source": [
    "class LatentBottleneck(nn.Module):\n",
    "    def __init__(self, dim_model: int, dim_latent: int):\n",
    "        super().__init__()\n",
    "        self.down = nn.Linear(dim_model, dim_latent)\n",
    "        self.up = nn.Linear(dim_latent, dim_model)\n",
    "\n",
    "    def forward(self, x):\n",
    "        return self.up(self.down(x))\n",
    "\n",
    "    def forward_latent(self, x):\n",
    "        return self.down(x)\n",
    "\n",
    "class LatentClassifier(nn.Module):\n",
    "    def __init__(self, bottleneck: LatentBottleneck, num_classes: int):\n",
    "        super().__init__()\n",
    "        self.bottleneck = bottleneck\n",
    "        self.classifier = nn.Linear(bottleneck.down.out_features, num_classes)\n",
    "\n",
    "    def forward(self, x):\n",
    "        latent = self.bottleneck.forward_latent(x)\n",
    "        return self.classifier(latent)\n",
    "\n",
    "class ResidualBottleneckWrapper(nn.Module):\n",
    "    def __init__(self, layer: nn.Module, dim_model: int, dim_latent: int):\n",
    "        super().__init__()\n",
    "        self.layer = layer\n",
    "        self.bottleneck = LatentBottleneck(dim_model, dim_latent)\n",
    "\n",
    "    def forward(self, x, *args, **kwargs):\n",
    "        bottleneck_out = self.bottleneck(x)\n",
    "        x_modified = x + bottleneck_out\n",
    "        return self.layer(x_modified, *args, **kwargs)\n",
    "\n",
    "# Example: bottleneck from original 5120\n",
    "bottleneck = LatentBottleneck(dim_model=5120, dim_latent=32)"
   ]
  },
  {
   "cell_type": "code",
   "execution_count": 6,
   "id": "4b875938",
   "metadata": {},
   "outputs": [],
   "source": [
    "# Freeze all layers except the bottleneck\n",
    "for param in pipeline.model.parameters():\n",
    "    param.requires_grad = False\n",
    "for param in bottleneck.parameters():\n",
    "    param.requires_grad = True\n",
    "# Insert the bottleneck into the model\n",
    "\n",
    "# Wrap layer 21 in a residual bottleneck\n",
    "original_layer = pipeline.model.model.layers[21]\n",
    "dim_model = 5120\n",
    "dim_latent = 6\n",
    "wrapped_layer = ResidualBottleneckWrapper(original_layer, dim_model, dim_latent)\n",
    "wrapped_layer = wrapped_layer.to(device)\n",
    "\n",
    "# Replace in-place\n",
    "pipeline.model.model.layers[21] = wrapped_layer"
   ]
  },
  {
   "cell_type": "code",
   "execution_count": 7,
   "id": "1c559cc4",
   "metadata": {},
   "outputs": [
    {
     "name": "stdout",
     "output_type": "stream",
     "text": [
      "Layer: model.layers.21.bottleneck.down.weight, Params: 30720\n",
      "Layer: model.layers.21.bottleneck.down.bias, Params: 6\n",
      "Layer: model.layers.21.bottleneck.up.weight, Params: 30720\n",
      "Layer: model.layers.21.bottleneck.up.bias, Params: 5120\n"
     ]
    }
   ],
   "source": [
    "# Print all the layers and the count of their params:\n",
    "def print_layers(model):\n",
    "    for name, param in model.named_parameters():\n",
    "        if param.requires_grad:\n",
    "            print(f\"Layer: {name}, Params: {param.numel()}\")\n",
    "print_layers(pipeline.model)"
   ]
  },
  {
   "cell_type": "code",
   "execution_count": 8,
   "id": "376f9aa5",
   "metadata": {},
   "outputs": [],
   "source": [
    "# Now we'll train the bottleneck to one-hot the label\n",
    "def train_latent_classifier(\n",
    "    model: nn.Module,\n",
    "    llm: nn.Module,\n",
    "    tokenizer,\n",
    "    X_train,\n",
    "    y_train,\n",
    "    layer_idx=21,\n",
    "    epochs=5,\n",
    "    batch_size=16,\n",
    "):\n",
    "    model.train()\n",
    "    optimizer = torch.optim.Adam(model.parameters(), lr=1 * 10**(-3.5))\n",
    "    criterion = nn.CrossEntropyLoss()\n",
    "\n",
    "    for epoch in range(epochs):\n",
    "        for i in range(0, len(X_train), batch_size):\n",
    "            batch_texts = X_train[i : i + batch_size]\n",
    "            batch_labels = y_train[i : i + batch_size]\n",
    "\n",
    "            # Tokenize\n",
    "            inputs = tokenizer(\n",
    "                batch_texts,\n",
    "                return_tensors=\"pt\",\n",
    "                padding=True,\n",
    "                truncation=True,\n",
    "                max_length=512,\n",
    "            ).to(device)\n",
    "\n",
    "            # Forward through frozen LLM to get hidden states\n",
    "            with torch.no_grad():\n",
    "                outputs = llm(**inputs, output_hidden_states=True)\n",
    "                hidden_states = outputs.hidden_states[layer_idx]\n",
    "                x = hidden_states.mean(dim=1).to(torch.float32).to(device)\n",
    "\n",
    "            # Forward through latent classifier\n",
    "            labels_tensor = torch.tensor(batch_labels, device=device)\n",
    "            preds = model(x)\n",
    "            loss = criterion(preds, labels_tensor)\n",
    "\n",
    "            # Optimize\n",
    "            optimizer.zero_grad()\n",
    "            loss.backward()\n",
    "            optimizer.step()\n",
    "\n",
    "            print(f\"Epoch {epoch+1}, Batch {i//batch_size+1}, Loss: {loss.item():.4f}\")\n",
    "        print(f\"Epoch {epoch+1} completed.\")"
   ]
  },
  {
   "cell_type": "code",
   "execution_count": 9,
   "id": "9e1caad7",
   "metadata": {},
   "outputs": [
    {
     "name": "stdout",
     "output_type": "stream",
     "text": [
      "Epoch 1, Batch 1, Loss: 1.8988\n",
      "Epoch 1, Batch 2, Loss: 1.1740\n",
      "Epoch 1, Batch 3, Loss: 1.1027\n",
      "Epoch 1, Batch 4, Loss: 1.0735\n",
      "Epoch 1, Batch 5, Loss: 1.3455\n",
      "Epoch 1, Batch 6, Loss: 1.5443\n",
      "Epoch 1, Batch 7, Loss: 0.7666\n",
      "Epoch 1 completed.\n",
      "Epoch 2, Batch 1, Loss: 1.1061\n",
      "Epoch 2, Batch 2, Loss: 0.9326\n",
      "Epoch 2, Batch 3, Loss: 1.1480\n",
      "Epoch 2, Batch 4, Loss: 0.7574\n",
      "Epoch 2, Batch 5, Loss: 1.0023\n",
      "Epoch 2, Batch 6, Loss: 1.0621\n",
      "Epoch 2, Batch 7, Loss: 0.6338\n",
      "Epoch 2 completed.\n",
      "Epoch 3, Batch 1, Loss: 0.7710\n",
      "Epoch 3, Batch 2, Loss: 0.6033\n",
      "Epoch 3, Batch 3, Loss: 0.7157\n",
      "Epoch 3, Batch 4, Loss: 0.5399\n",
      "Epoch 3, Batch 5, Loss: 0.6200\n",
      "Epoch 3, Batch 6, Loss: 0.7059\n",
      "Epoch 3, Batch 7, Loss: 0.3129\n",
      "Epoch 3 completed.\n",
      "Epoch 4, Batch 1, Loss: 0.5035\n",
      "Epoch 4, Batch 2, Loss: 0.5682\n",
      "Epoch 4, Batch 3, Loss: 0.7880\n",
      "Epoch 4, Batch 4, Loss: 0.4948\n",
      "Epoch 4, Batch 5, Loss: 0.6291\n",
      "Epoch 4, Batch 6, Loss: 0.5765\n",
      "Epoch 4, Batch 7, Loss: 0.1516\n",
      "Epoch 4 completed.\n",
      "Epoch 5, Batch 1, Loss: 0.3947\n",
      "Epoch 5, Batch 2, Loss: 0.4100\n",
      "Epoch 5, Batch 3, Loss: 0.4863\n",
      "Epoch 5, Batch 4, Loss: 0.4361\n",
      "Epoch 5, Batch 5, Loss: 0.5457\n",
      "Epoch 5, Batch 6, Loss: 0.5659\n",
      "Epoch 5, Batch 7, Loss: 0.1264\n",
      "Epoch 5 completed.\n"
     ]
    }
   ],
   "source": [
    "# Train the bottleneck\n",
    "latent_classifier = LatentClassifier(bottleneck, num_classes=len(set(y_train))).to(device)\n",
    "train_latent_classifier(\n",
    "    latent_classifier,\n",
    "    pipeline.model,\n",
    "    pipeline.tokenizer,\n",
    "    X_train,\n",
    "    y_train,\n",
    "    layer_idx=21,\n",
    "    batch_size=32,\n",
    ")"
   ]
  },
  {
   "cell_type": "code",
   "execution_count": 21,
   "id": "c997db20",
   "metadata": {},
   "outputs": [],
   "source": [
    "def predict_domain(text: str, llm, tokenizer, classifier, layer_idx=21):\n",
    "    classifier.eval()\n",
    "\n",
    "    # Tokenize\n",
    "    inputs = tokenizer(\n",
    "        text,\n",
    "        return_tensors=\"pt\",\n",
    "        padding=True,\n",
    "        truncation=True,\n",
    "        max_length=512,\n",
    "    ).to(device)\n",
    "\n",
    "    with torch.no_grad():\n",
    "        outputs = llm(**inputs, output_hidden_states=True)\n",
    "        hidden_states = outputs.hidden_states[layer_idx]\n",
    "        x = hidden_states.mean(dim=1).to(torch.float32).to(device)\n",
    "\n",
    "        logits = classifier(x)\n",
    "        predicted_class = logits.argmax(dim=1).item()\n",
    "\n",
    "    return DomainType.from_int(predicted_class), logits"
   ]
  },
  {
   "cell_type": "code",
   "execution_count": 22,
   "id": "e8124136",
   "metadata": {},
   "outputs": [
    {
     "name": "stdout",
     "output_type": "stream",
     "text": [
      "Predicted domain class: blog\n"
     ]
    }
   ],
   "source": [
    "text = \"I'd try unplugging your modem first to see if that's the problem.\"\n",
    "pred, _ = predict_domain(text, pipeline.model, pipeline.tokenizer, latent_classifier, layer_idx=21)\n",
    "print(f\"Predicted domain class: {pred}\")"
   ]
  },
  {
   "cell_type": "code",
   "execution_count": 23,
   "id": "733ef632",
   "metadata": {},
   "outputs": [
    {
     "name": "stdout",
     "output_type": "stream",
     "text": [
      "Predicted domain class: blog\n"
     ]
    }
   ],
   "source": [
    "text = \"When I first set out on this vacation, I was worried my shoes wouldn't last.\"\n",
    "pred, _ = predict_domain(text, pipeline.model, pipeline.tokenizer, latent_classifier, layer_idx=21)\n",
    "print(f\"Predicted domain class: {pred}\")"
   ]
  },
  {
   "cell_type": "code",
   "execution_count": 24,
   "id": "7ebf4c72",
   "metadata": {},
   "outputs": [
    {
     "name": "stdout",
     "output_type": "stream",
     "text": [
      "Predicted domain class: email\n"
     ]
    }
   ],
   "source": [
    "text = \"You need to send me the report by the end of the day.\"\n",
    "pred, _ = predict_domain(text, pipeline.model, pipeline.tokenizer, latent_classifier, layer_idx=21)\n",
    "print(f\"Predicted domain class: {pred}\")"
   ]
  },
  {
   "cell_type": "code",
   "execution_count": 25,
   "id": "f79946e3",
   "metadata": {},
   "outputs": [
    {
     "name": "stdout",
     "output_type": "stream",
     "text": [
      "Predicted domain class: news\n"
     ]
    }
   ],
   "source": [
    "text = \"In breaking news, a major earthquake has struck the city, causing widespread damage and panic.\"\n",
    "pred, _ = predict_domain(text, pipeline.model, pipeline.tokenizer, latent_classifier, layer_idx=21)\n",
    "print(f\"Predicted domain class: {pred}\")"
   ]
  },
  {
   "cell_type": "code",
   "execution_count": 37,
   "id": "4313707b",
   "metadata": {},
   "outputs": [],
   "source": [
    "# Confusion matrix:\n",
    "import matplotlib.pyplot as plt\n",
    "\n",
    "from sklearn.metrics import confusion_matrix\n",
    "def plot_confusion_matrix(y_true, y_pred, classes):\n",
    "    cm = confusion_matrix(y_true, y_pred)\n",
    "    plt.figure(figsize=(10, 8))\n",
    "    plt.imshow(cm, interpolation=\"nearest\", cmap=plt.cm.Blues)\n",
    "    plt.xticks(np.arange(len(classes)), classes, rotation=45)\n",
    "    plt.yticks(np.arange(len(classes)), classes)\n",
    "    plt.colorbar()\n",
    "    plt.xlabel(\"Predicted\")\n",
    "    plt.ylabel(\"True\")\n",
    "    plt.title(\"Confusion Matrix\")\n",
    "    plt.show()\n"
   ]
  },
  {
   "cell_type": "code",
   "execution_count": null,
   "id": "5874e702",
   "metadata": {},
   "outputs": [],
   "source": [
    "# Evaluate the model on the test set\n",
    "y_pred = []\n",
    "for text in X_test:\n",
    "    pred, _ = predict_domain(text, pipeline.model, pipeline.tokenizer, latent_classifier, layer_idx=21)\n",
    "    y_pred.append(pred)\n"
   ]
  },
  {
   "cell_type": "code",
   "execution_count": 39,
   "id": "c6f97c5d",
   "metadata": {},
   "outputs": [
    {
     "data": {
      "image/png": "[encoded data removed]",
      "text/plain": [
       "<Figure size 1000x800 with 2 Axes>"
      ]
     },
     "metadata": {},
     "output_type": "display_data"
    },
    {
     "name": "stdout",
     "output_type": "stream",
     "text": [
      "Accuracy: 0.0000\n"
     ]
    }
   ],
   "source": [
    "# Plot confusion matrix\n",
    "plot_confusion_matrix(y_test, [DomainType.as_int(y) for y in y_pred], [\n",
    "\"ANSWERS\",\n",
    "\"BLOG\",\n",
    "\"EMAIL\",\n",
    "\"NEWS\",\n",
    "])\n",
    "# Print accuracy\n",
    "accuracy = accuracy_score(y_test, y_pred)\n",
    "print(f\"Accuracy: {accuracy:.4f}\")"
   ]
  },
  {
   "cell_type": "code",
   "execution_count": null,
   "id": "abfabb42",
   "metadata": {},
   "outputs": [],
   "source": []
  }
 ],
 "metadata": {
  "kernelspec": {
   "display_name": ".venv",
   "language": "python",
   "name": "python3"
  },
  "language_info": {
   "codemirror_mode": {
    "name": "ipython",
    "version": 3
   },
   "file_extension": ".py",
   "mimetype": "text/x-python",
   "name": "python",
   "nbconvert_exporter": "python",
   "pygments_lexer": "ipython3",
   "version": "3.11.9"
  }
 },
 "nbformat": 4,
 "nbformat_minor": 5
}
