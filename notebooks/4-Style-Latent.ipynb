{
 "cells": [
  {
   "cell_type": "code",
   "execution_count": 4,
   "id": "040dc41f",
   "metadata": {},
   "outputs": [],
   "source": [
    "import matplotlib.pyplot as plt\n",
    "import numpy as np\n",
    "import torch\n",
    "from torch import nn\n",
    "import pandas as pd\n",
    "import transformers\n",
    "from sklearn.linear_model import LogisticRegression\n",
    "from sklearn.metrics import accuracy_score\n",
    "from sklearn.model_selection import train_test_split\n",
    "from llm_style.formality_dataset import FormalityDataset, PavlickFormalityDataset\n",
    "from llm_style.domain_dataset import DomainDataset, DomainType\n"
   ]
  },
  {
   "cell_type": "code",
   "execution_count": 5,
   "id": "3bc68eb1",
   "metadata": {},
   "outputs": [],
   "source": [
    "dataset = DomainDataset(mode=\"int\")"
   ]
  },
  {
   "cell_type": "code",
   "execution_count": 6,
   "id": "34f0fbd8",
   "metadata": {},
   "outputs": [
    {
     "data": {
      "application/vnd.jupyter.widget-view+json": {
       "model_id": "975cb97b4afb4a7f8a342717087c5051",
       "version_major": 2,
       "version_minor": 0
      },
      "text/plain": [
       "Loading checkpoint shards:   0%|          | 0/6 [00:00<?, ?it/s]"
      ]
     },
     "metadata": {},
     "output_type": "display_data"
    },
    {
     "name": "stderr",
     "output_type": "stream",
     "text": [
      "Some parameters are on the meta device because they were offloaded to the disk.\n",
      "Device set to use mps\n"
     ]
    }
   ],
   "source": [
    "pipeline = transformers.pipeline(\n",
    "    \"text-generation\",\n",
    "    model=\"microsoft/phi-4\",\n",
    "    model_kwargs={\"torch_dtype\": \"auto\"},\n",
    "    device_map=\"auto\",\n",
    ")\n"
   ]
  },
  {
   "cell_type": "code",
   "execution_count": 7,
   "id": "0216a079",
   "metadata": {},
   "outputs": [
    {
     "name": "stdout",
     "output_type": "stream",
     "text": [
      "Using device: mps\n"
     ]
    }
   ],
   "source": [
    "# Get device for computation\n",
    "device = torch.device(\n",
    "    \"cuda\"\n",
    "    if torch.cuda.is_available()\n",
    "    else \"mps\"\n",
    "    if torch.backends.mps.is_available()\n",
    "    else \"cpu\"\n",
    ")\n",
    "print(f\"Using device: {device}\")\n",
    "\n",
    "# Extract texts and labels from the dataset\n",
    "texts = []\n",
    "labels = []\n",
    "for i in range(0, 250):\n",
    "    # if i >= len(dataset):\n",
    "    #     break\n",
    "    sample = dataset[i]\n",
    "    if \"text\" not in sample or \"label\" not in sample:\n",
    "        print(f\"Skipping index {i} due to missing fields.\")\n",
    "        continue\n",
    "    texts.append(sample[\"text\"])\n",
    "    labels.append(sample[\"label\"])\n",
    "\n",
    "# Split the data into training and testing sets\n",
    "X_train, X_test, y_train, y_test = train_test_split(\n",
    "    texts, labels, test_size=0.2, random_state=42\n",
    ")\n",
    "\n",
    "\n",
    "# Define a function to extract features from text\n",
    "def extract_features(model, tokenizer, texts, layer_idx):\n",
    "    # Move model to the correct device if not already there\n",
    "    # model_device = next(model.parameters()).device\n",
    "    # if model_device != device:\n",
    "    #     model = model.to(device)\n",
    "\n",
    "    features = []\n",
    "    batch_size = 16  # Adjust based on your GPU/memory\n",
    "\n",
    "    for i in range(0, len(texts), batch_size):\n",
    "        batch_texts = texts[i : i + batch_size]\n",
    "        # Tokenize the texts\n",
    "        inputs = tokenizer(\n",
    "            batch_texts,\n",
    "            return_tensors=\"pt\",\n",
    "            padding=True,\n",
    "            truncation=True,\n",
    "            max_length=512,\n",
    "        )\n",
    "        inputs = {k: v.to(device) for k, v in inputs.items()}\n",
    "\n",
    "        # Get model outputs with no gradient computation\n",
    "        with torch.no_grad():\n",
    "            outputs = model(**inputs, output_hidden_states=True)\n",
    "\n",
    "        # Extract hidden states from the specified layer\n",
    "        # For phi-4 model, access the proper hidden states format\n",
    "        if hasattr(outputs, \"hidden_states\"):\n",
    "            hidden_states = outputs.hidden_states[layer_idx]\n",
    "        else:\n",
    "            # If hidden_states is a tuple, access it directly\n",
    "            hidden_states = outputs[2][layer_idx]\n",
    "        hidden_states = hidden_states.to(torch.float32)\n",
    "\n",
    "        # Average across the token dimension to get a fixed-size representation\n",
    "        batch_features = hidden_states.mean(dim=1)\n",
    "        batch_features_cpu = batch_features.cpu().numpy()\n",
    "        features.append(batch_features_cpu)\n",
    "\n",
    "    return np.vstack(features)\n",
    "\n"
   ]
  },
  {
   "cell_type": "code",
   "execution_count": 8,
   "id": "9555e928",
   "metadata": {},
   "outputs": [],
   "source": [
    "class LatentBottleneck(nn.Module):\n",
    "    def __init__(self, dim_model: int, dim_latent: int):\n",
    "        super().__init__()\n",
    "        self.down = nn.Linear(dim_model, dim_latent)\n",
    "        self.up = nn.Linear(dim_latent, dim_model)\n",
    "\n",
    "    def forward(self, x):\n",
    "        return self.up(self.down(x))\n",
    "\n",
    "    def forward_latent(self, x):\n",
    "        return self.down(x)\n",
    "\n",
    "class LatentClassifier(nn.Module):\n",
    "    def __init__(self, bottleneck: LatentBottleneck, num_classes: int):\n",
    "        super().__init__()\n",
    "        self.bottleneck = bottleneck\n",
    "        self.classifier = nn.Linear(bottleneck.down.out_features, num_classes)\n",
    "\n",
    "    def forward(self, x):\n",
    "        latent = self.bottleneck.forward_latent(x)\n",
    "        return self.classifier(latent)\n",
    "\n",
    "class ResidualBottleneckWrapper(nn.Module):\n",
    "    def __init__(self, layer: nn.Module, dim_model: int, dim_latent: int):\n",
    "        super().__init__()\n",
    "        self.layer = layer\n",
    "        self.bottleneck = LatentBottleneck(dim_model, dim_latent)\n",
    "\n",
    "    def forward(self, x, *args, **kwargs):\n",
    "        bottleneck_out = self.bottleneck(x)\n",
    "        x_modified = x + bottleneck_out\n",
    "        return self.layer(x_modified, *args, **kwargs)\n",
    "\n",
    "# Example: bottleneck from original 5120\n",
    "bottleneck = LatentBottleneck(dim_model=5120, dim_latent=32)"
   ]
  },
  {
   "cell_type": "code",
   "execution_count": 9,
   "id": "4b875938",
   "metadata": {},
   "outputs": [],
   "source": [
    "# Freeze all layers except the bottleneck\n",
    "for param in pipeline.model.parameters():\n",
    "    param.requires_grad = False\n",
    "for param in bottleneck.parameters():\n",
    "    param.requires_grad = True\n",
    "# Insert the bottleneck into the model\n",
    "\n",
    "# Wrap layer 21 in a residual bottleneck\n",
    "original_layer = pipeline.model.model.layers[21]\n",
    "dim_model = 5120\n",
    "dim_latent = 6\n",
    "wrapped_layer = ResidualBottleneckWrapper(original_layer, dim_model, dim_latent)\n",
    "wrapped_layer = wrapped_layer.to_empty(device=device)\n",
    "\n",
    "# Replace in-place\n",
    "pipeline.model.model.layers[21] = wrapped_layer"
   ]
  },
  {
   "cell_type": "code",
   "execution_count": 10,
   "id": "1c559cc4",
   "metadata": {},
   "outputs": [
    {
     "name": "stdout",
     "output_type": "stream",
     "text": [
      "Layer: model.layers.21.bottleneck.down.weight, Params: 30720\n",
      "Layer: model.layers.21.bottleneck.down.bias, Params: 6\n",
      "Layer: model.layers.21.bottleneck.up.weight, Params: 30720\n",
      "Layer: model.layers.21.bottleneck.up.bias, Params: 5120\n"
     ]
    }
   ],
   "source": [
    "# Print all the layers and the count of their params:\n",
    "def print_layers(model):\n",
    "    for name, param in model.named_parameters():\n",
    "        if param.requires_grad:\n",
    "            print(f\"Layer: {name}, Params: {param.numel()}\")\n",
    "print_layers(pipeline.model)"
   ]
  },
  {
   "cell_type": "code",
   "execution_count": 11,
   "id": "376f9aa5",
   "metadata": {},
   "outputs": [],
   "source": [
    "# Now we'll train the bottleneck to one-hot the label\n",
    "def train_latent_classifier(\n",
    "    model: nn.Module,\n",
    "    llm: nn.Module,\n",
    "    tokenizer,\n",
    "    X_train,\n",
    "    y_train,\n",
    "    layer_idx=21,\n",
    "    epochs=5,\n",
    "    batch_size=16,\n",
    "):\n",
    "    model.train()\n",
    "    optimizer = torch.optim.Adam(model.parameters(), lr=1 * 10**(-3.5))\n",
    "    criterion = nn.CrossEntropyLoss()\n",
    "\n",
    "    for epoch in range(epochs):\n",
    "        for i in range(0, len(X_train), batch_size):\n",
    "            batch_texts = X_train[i : i + batch_size]\n",
    "            batch_labels = y_train[i : i + batch_size]\n",
    "\n",
    "            # Tokenize\n",
    "            inputs = tokenizer(\n",
    "                batch_texts,\n",
    "                return_tensors=\"pt\",\n",
    "                padding=True,\n",
    "                truncation=True,\n",
    "                max_length=512,\n",
    "            ).to(device)\n",
    "\n",
    "            # Forward through frozen LLM to get hidden states\n",
    "            with torch.no_grad():\n",
    "                outputs = llm(**inputs, output_hidden_states=True)\n",
    "                hidden_states = outputs.hidden_states[layer_idx]\n",
    "                x = hidden_states.mean(dim=1).to(torch.float32).to(device)\n",
    "\n",
    "            # Forward through latent classifier\n",
    "            labels_tensor = torch.tensor(batch_labels, device=device)\n",
    "            preds = model(x)\n",
    "            loss = criterion(preds, labels_tensor)\n",
    "\n",
    "            # Clip gradients to prevent exploding gradients\n",
    "            torch.nn.utils.clip_grad_norm_(model.parameters(), max_norm=1.0)\n",
    "\n",
    "            # Optimize\n",
    "            optimizer.zero_grad()\n",
    "            loss.backward()\n",
    "            optimizer.step()\n",
    "\n",
    "            print(f\"Epoch {epoch+1}, Batch {i//batch_size+1}, Loss: {loss.item():.4f}\")\n",
    "        print(f\"Epoch {epoch+1} completed.\")"
   ]
  },
  {
   "cell_type": "code",
   "execution_count": 12,
   "id": "9e1caad7",
   "metadata": {},
   "outputs": [
    {
     "name": "stdout",
     "output_type": "stream",
     "text": [
      "Epoch 1, Batch 1, Loss: 1.5146\n",
      "Epoch 1, Batch 2, Loss: 1.1064\n",
      "Epoch 1, Batch 3, Loss: 1.2540\n",
      "Epoch 1, Batch 4, Loss: 1.0732\n",
      "Epoch 1, Batch 5, Loss: 1.0307\n",
      "Epoch 1, Batch 6, Loss: 1.1955\n",
      "Epoch 1, Batch 7, Loss: 0.7894\n",
      "Epoch 1 completed.\n",
      "Epoch 2, Batch 1, Loss: 0.9335\n",
      "Epoch 2, Batch 2, Loss: 1.0891\n",
      "Epoch 2, Batch 3, Loss: 1.3274\n",
      "Epoch 2, Batch 4, Loss: 0.8625\n",
      "Epoch 2, Batch 5, Loss: 0.8727\n",
      "Epoch 2, Batch 6, Loss: 0.9292\n",
      "Epoch 2, Batch 7, Loss: 0.7360\n",
      "Epoch 2 completed.\n",
      "Epoch 3, Batch 1, Loss: 0.7889\n",
      "Epoch 3, Batch 2, Loss: 0.6695\n",
      "Epoch 3, Batch 3, Loss: 0.8106\n",
      "Epoch 3, Batch 4, Loss: 0.6430\n",
      "Epoch 3, Batch 5, Loss: 0.7138\n",
      "Epoch 3, Batch 6, Loss: 0.8111\n",
      "Epoch 3, Batch 7, Loss: 0.4334\n",
      "Epoch 3 completed.\n",
      "Epoch 4, Batch 1, Loss: 0.5217\n",
      "Epoch 4, Batch 2, Loss: 0.5583\n",
      "Epoch 4, Batch 3, Loss: 0.7756\n",
      "Epoch 4, Batch 4, Loss: 0.5384\n",
      "Epoch 4, Batch 5, Loss: 0.6903\n",
      "Epoch 4, Batch 6, Loss: 0.6327\n",
      "Epoch 4, Batch 7, Loss: 0.2183\n",
      "Epoch 4 completed.\n",
      "Epoch 5, Batch 1, Loss: 0.4384\n",
      "Epoch 5, Batch 2, Loss: 0.4773\n",
      "Epoch 5, Batch 3, Loss: 0.6054\n",
      "Epoch 5, Batch 4, Loss: 0.4438\n",
      "Epoch 5, Batch 5, Loss: 0.5538\n",
      "Epoch 5, Batch 6, Loss: 0.5808\n",
      "Epoch 5, Batch 7, Loss: 0.1834\n",
      "Epoch 5 completed.\n"
     ]
    }
   ],
   "source": [
    "# Train the bottleneck\n",
    "latent_classifier = LatentClassifier(bottleneck, num_classes=len(set(y_train))).to(device)\n",
    "train_latent_classifier(\n",
    "    latent_classifier,\n",
    "    pipeline.model,\n",
    "    pipeline.tokenizer,\n",
    "    X_train,\n",
    "    y_train,\n",
    "    layer_idx=21,\n",
    "    batch_size=32,\n",
    ")"
   ]
  },
  {
   "cell_type": "code",
   "execution_count": 13,
   "id": "c997db20",
   "metadata": {},
   "outputs": [],
   "source": [
    "def predict_domain(text: str, llm, tokenizer, classifier, layer_idx=21):\n",
    "    classifier.eval()\n",
    "\n",
    "    # Tokenize\n",
    "    inputs = tokenizer(\n",
    "        text,\n",
    "        return_tensors=\"pt\",\n",
    "        padding=True,\n",
    "        truncation=True,\n",
    "        max_length=512,\n",
    "    ).to(device)\n",
    "\n",
    "    with torch.no_grad():\n",
    "        outputs = llm(**inputs, output_hidden_states=True)\n",
    "        hidden_states = outputs.hidden_states[layer_idx]\n",
    "        x = hidden_states.mean(dim=1).to(torch.float32).to(device)\n",
    "\n",
    "        logits = classifier(x)\n",
    "        predicted_class = logits.argmax(dim=1).item()\n",
    "\n",
    "    return DomainType.from_int(predicted_class), logits"
   ]
  },
  {
   "cell_type": "code",
   "execution_count": 14,
   "id": "e8124136",
   "metadata": {},
   "outputs": [
    {
     "name": "stdout",
     "output_type": "stream",
     "text": [
      "Predicted domain class: email\n"
     ]
    }
   ],
   "source": [
    "text = \"I'd try unplugging your modem first to see if that's the problem.\"\n",
    "pred, _ = predict_domain(text, pipeline.model, pipeline.tokenizer, latent_classifier, layer_idx=21)\n",
    "print(f\"Predicted domain class: {pred}\")"
   ]
  },
  {
   "cell_type": "code",
   "execution_count": 15,
   "id": "733ef632",
   "metadata": {},
   "outputs": [
    {
     "name": "stdout",
     "output_type": "stream",
     "text": [
      "Predicted domain class: blog\n"
     ]
    }
   ],
   "source": [
    "text = \"When I first set out on this vacation, I was worried my shoes wouldn't last.\"\n",
    "pred, _ = predict_domain(text, pipeline.model, pipeline.tokenizer, latent_classifier, layer_idx=21)\n",
    "print(f\"Predicted domain class: {pred}\")"
   ]
  },
  {
   "cell_type": "code",
   "execution_count": 16,
   "id": "7ebf4c72",
   "metadata": {},
   "outputs": [
    {
     "name": "stdout",
     "output_type": "stream",
     "text": [
      "Predicted domain class: email\n"
     ]
    }
   ],
   "source": [
    "text = \"You need to send me the report by the end of the day.\"\n",
    "pred, _ = predict_domain(text, pipeline.model, pipeline.tokenizer, latent_classifier, layer_idx=21)\n",
    "print(f\"Predicted domain class: {pred}\")"
   ]
  },
  {
   "cell_type": "code",
   "execution_count": 17,
   "id": "f79946e3",
   "metadata": {},
   "outputs": [
    {
     "name": "stdout",
     "output_type": "stream",
     "text": [
      "Predicted domain class: news\n"
     ]
    }
   ],
   "source": [
    "text = \"In breaking news, a major earthquake has struck the city, causing widespread damage and panic.\"\n",
    "pred, _ = predict_domain(text, pipeline.model, pipeline.tokenizer, latent_classifier, layer_idx=21)\n",
    "print(f\"Predicted domain class: {pred}\")"
   ]
  },
  {
   "cell_type": "code",
   "execution_count": 18,
   "id": "4313707b",
   "metadata": {},
   "outputs": [],
   "source": [
    "# Confusion matrix:\n",
    "import matplotlib.pyplot as plt\n",
    "\n",
    "from sklearn.metrics import confusion_matrix\n",
    "def plot_confusion_matrix(y_true, y_pred, classes):\n",
    "    cm = confusion_matrix(y_true, y_pred)\n",
    "    plt.figure(figsize=(10, 8))\n",
    "    plt.imshow(cm, interpolation=\"nearest\", cmap=plt.cm.Blues)\n",
    "    plt.xticks(np.arange(len(classes)), classes, rotation=45)\n",
    "    plt.yticks(np.arange(len(classes)), classes)\n",
    "    plt.colorbar()\n",
    "    plt.xlabel(\"Predicted\")\n",
    "    plt.ylabel(\"True\")\n",
    "    plt.title(\"Confusion Matrix\")\n",
    "    plt.show()\n"
   ]
  },
  {
   "cell_type": "code",
   "execution_count": 19,
   "id": "5874e702",
   "metadata": {},
   "outputs": [],
   "source": [
    "# Evaluate the model on the test set\n",
    "y_pred = []\n",
    "for text in X_test:\n",
    "    pred, _ = predict_domain(text, pipeline.model, pipeline.tokenizer, latent_classifier, layer_idx=21)\n",
    "    y_pred.append(pred)\n"
   ]
  },
  {
   "cell_type": "code",
   "execution_count": 36,
   "id": "c6f97c5d",
   "metadata": {},
   "outputs": [
    {
     "data": {
      "image/png": "[encoded data removed]",
      "text/plain": [
       "<Figure size 1000x800 with 2 Axes>"
      ]
     },
     "metadata": {},
     "output_type": "display_data"
    },
    {
     "name": "stdout",
     "output_type": "stream",
     "text": [
      "Accuracy: 0.5200\n"
     ]
    }
   ],
   "source": [
    "# Plot confusion matrix\n",
    "plot_confusion_matrix(y_test, [DomainType.as_int(y) for y in y_pred], [\n",
    "\"ANSWERS\",\n",
    "\"BLOG\",\n",
    "\"EMAIL\",\n",
    "\"NEWS\",\n",
    "])\n",
    "# Print accuracy\n",
    "accuracy = accuracy_score(y_test, [DomainType.as_int(y) for y in y_pred])\n",
    "print(f\"Accuracy: {accuracy:.4f}\")"
   ]
  },
  {
   "cell_type": "markdown",
   "id": "713c44cb",
   "metadata": {},
   "source": [
    "## Content Evaluation"
   ]
  },
  {
   "cell_type": "code",
   "execution_count": 44,
   "id": "a74cc114",
   "metadata": {},
   "outputs": [],
   "source": [
    "from datasets import Dataset\n",
    "import evaluate\n",
    "from tqdm.auto import tqdm\n",
    "import math\n",
    "from llm_style.content_dataset import CNNContentDataset"
   ]
  },
  {
   "cell_type": "code",
   "execution_count": 45,
   "id": "47c979d2",
   "metadata": {},
   "outputs": [
    {
     "name": "stdout",
     "output_type": "stream",
     "text": [
      "Number of samples in CNN dataset: 287113\n",
      "Sample 0: {'article': 'LONDON, England (Reuters) -- Harry Potter star Daniel Radcliffe gains access to a reported £20 million ($41.1 million) fortune as he turns 18 on Monday, but he insists the money won\\'t cast a spell on him. Daniel Radcliffe as Harry Potter in \"Harry Potter and the Order of the Phoenix\" To the disappointment of gossip columnists around the world, the young actor says he has no plans to fritter his cash away on fast cars, drink and celebrity parties. \"I don\\'t plan to be one of those people who, as soon as they turn 18, suddenly buy themselves a massive sports car collection or something similar,\" he told an Australian interviewer earlier this month. \"I don\\'t think I\\'ll be particularly extravagant. \"The things I like buying are things that cost about 10 pounds -- books and CDs and DVDs.\" At 18, Radcliffe will be able to gamble in a casino, buy a drink in a pub or see the horror film \"Hostel: Part II,\" currently six places below his number one movie on the UK box office chart. Details of how he\\'ll mark his landmark birthday are under wraps. His agent and publicist had no comment on his plans. \"I\\'ll definitely have some sort of party,\" he said in an interview. \"Hopefully none of you will be reading about it.\" Radcliffe\\'s earnings from the first five Potter films have been held in a trust fund which he has not been able to touch. Despite his growing fame and riches, the actor says he is keeping his feet firmly on the ground. \"People are always looking to say \\'kid star goes off the rails,\\'\" he told reporters last month. \"But I try very hard not to go that way because it would be too easy for them.\" His latest outing as the boy wizard in \"Harry Potter and the Order of the Phoenix\" is breaking records on both sides of the Atlantic and he will reprise the role in the last two films.  Watch I-Reporter give her review of Potter\\'s latest » . There is life beyond Potter, however. The Londoner has filmed a TV movie called \"My Boy Jack,\" about author Rudyard Kipling and his son, due for release later this year. He will also appear in \"December Boys,\" an Australian film about four boys who escape an orphanage. Earlier this year, he made his stage debut playing a tortured teenager in Peter Shaffer\\'s \"Equus.\" Meanwhile, he is braced for even closer media scrutiny now that he\\'s legally an adult: \"I just think I\\'m going to be more sort of fair game,\" he told Reuters. E-mail to a friend . Copyright 2007 Reuters. All rights reserved.This material may not be published, broadcast, rewritten, or redistributed.', 'summary': \"Harry Potter star Daniel Radcliffe gets £20M fortune as he turns 18 Monday .\\nYoung actor says he has no plans to fritter his cash away .\\nRadcliffe's earnings from first five Potter films have been held in trust fund .\"}\n",
      "Sample 1: {'article': 'Editor\\'s note: In our Behind the Scenes series, CNN correspondents share their experiences in covering news and analyze the stories behind the events. Here, Soledad O\\'Brien takes users inside a jail where many of the inmates are mentally ill. An inmate housed on the \"forgotten floor,\" where many mentally ill inmates are housed in Miami before trial. MIAMI, Florida (CNN) -- The ninth floor of the Miami-Dade pretrial detention facility is dubbed the \"forgotten floor.\" Here, inmates with the most severe mental illnesses are incarcerated until they\\'re ready to appear in court. Most often, they face drug charges or charges of assaulting an officer --charges that Judge Steven Leifman says are usually \"avoidable felonies.\" He says the arrests often result from confrontations with police. Mentally ill people often won\\'t do what they\\'re told when police arrive on the scene -- confrontation seems to exacerbate their illness and they become more paranoid, delusional, and less likely to follow directions, according to Leifman. So, they end up on the ninth floor severely mentally disturbed, but not getting any real help because they\\'re in jail. We toured the jail with Leifman. He is well known in Miami as an advocate for justice and the mentally ill. Even though we were not exactly welcomed with open arms by the guards, we were given permission to shoot videotape and tour the floor.  Go inside the \\'forgotten floor\\' » . At first, it\\'s hard to determine where the people are. The prisoners are wearing sleeveless robes. Imagine cutting holes for arms and feet in a heavy wool sleeping bag -- that\\'s kind of what they look like. They\\'re designed to keep the mentally ill patients from injuring themselves. That\\'s also why they have no shoes, laces or mattresses. Leifman says about one-third of all people in Miami-Dade county jails are mentally ill. So, he says, the sheer volume is overwhelming the system, and the result is what we see on the ninth floor. Of course, it is a jail, so it\\'s not supposed to be warm and comforting, but the lights glare, the cells are tiny and it\\'s loud. We see two, sometimes three men -- sometimes in the robes, sometimes naked, lying or sitting in their cells. \"I am the son of the president. You need to get me out of here!\" one man shouts at me. He is absolutely serious, convinced that help is on the way -- if only he could reach the White House. Leifman tells me that these prisoner-patients will often circulate through the system, occasionally stabilizing in a mental hospital, only to return to jail to face their charges. It\\'s brutally unjust, in his mind, and he has become a strong advocate for changing things in Miami. Over a meal later, we talk about how things got this way for mental patients. Leifman says 200 years ago people were considered \"lunatics\" and they were locked up in jails even if they had no charges against them. They were just considered unfit to be in society. Over the years, he says, there was some public outcry, and the mentally ill were moved out of jails and into hospitals. But Leifman says many of these mental hospitals were so horrible they were shut down. Where did the patients go? Nowhere. The streets. They became, in many cases, the homeless, he says. They never got treatment. Leifman says in 1955 there were more than half a million people in state mental hospitals, and today that number has been reduced 90 percent, and 40,000 to 50,000 people are in mental hospitals. The judge says he\\'s working to change this. Starting in 2008, many inmates who would otherwise have been brought to the \"forgotten floor\"  will instead be sent to a new mental health facility -- the first step on a journey toward long-term treatment, not just punishment. Leifman says it\\'s not the complete answer, but it\\'s a start. Leifman says the best part is that it\\'s a win-win solution. The patients win, the families are relieved, and the state saves money by simply not cycling these prisoners through again and again. And, for Leifman, justice is served. E-mail to a friend .', 'summary': 'Mentally ill inmates in Miami are housed on the \"forgotten floor\"\\nJudge Steven Leifman says most are there as a result of \"avoidable felonies\"\\nWhile CNN tours facility, patient shouts: \"I am the son of the president\"\\nLeifman says the system is unjust and he\\'s fighting for change .'}\n",
      "Sample 2: {'article': 'MINNEAPOLIS, Minnesota (CNN) -- Drivers who were on the Minneapolis bridge when it collapsed told harrowing tales of survival. \"The whole bridge from one side of the Mississippi to the other just completely gave way, fell all the way down,\" survivor Gary Babineau told CNN. \"I probably had a 30-, 35-foot free fall. And there\\'s cars in the water, there\\'s cars on fire. The whole bridge is down.\" He said his back was injured but he determined he could move around. \"I realized there was a school bus right next to me, and me and a couple of other guys went over and started lifting the kids off the bridge. They were yelling, screaming, bleeding. I think there were some broken bones.\"  Watch a driver describe his narrow escape » . At home when he heard about the disaster, Dr. John Hink, an emergency room physician, jumped into his car and rushed to the scene in 15 minutes. He arrived at the south side of the bridge, stood on the riverbank and saw dozens of people lying dazed on an expansive deck. They were in the middle of the Mississippi River, which was churning fast, and he had no way of getting to them. He went to the north side, where there was easier access to people. Ambulances were also having a hard time driving down to the river to get closer to the scene. Working feverishly, volunteers, EMTs and other officials managed to get 55 people into ambulances in less than two hours. Occasionally, a pickup truck with a medic inside would drive to get an injured person and bring him back up even ground, Hink told CNN. The rescue effort was controlled and organized, he said; the opposite of the lightning-quick collapse. \"I could see the whole bridge as it was going down, as it was falling,\" Babineau said. \"It just gave a rumble real quick, and it all just gave way, and it just fell completely, all the way to the ground. And there was dust everywhere and it was just like everyone has been saying: It was just like out of the movies.\" Babineau said the rear of his pickup truck was dangling over the edge of a broken-off section of the bridge. He said several vehicles slid past him into the water. \"I stayed in my car for one or two seconds. I saw a couple cars fall,\" he said. \"So I stayed in my car until the cars quit falling for a second, then I got out real quick, ran in front of my truck -- because behind my truck was just a hole -- and I helped a woman off of the bridge with me. \"I just wanted off the bridge, and then I ran over to the school bus. I started grabbing kids and handing them down. It was just complete chaos.\" He said most of the children were crying or screaming. He and other rescuers set them on the ground and told them to run to the river bank, but a few needed to be carried because of their injuries.  See rescuers clamber over rubble » . Babineau said he had no rescue training. \"I just knew what I had to do at the moment.\" Melissa Hughes, 32, of Minneapolis, told The Associated Press that she was driving home when the western edge of the bridge collapsed under her. \"You know that free-fall feeling? I felt that twice,\" Hughes said. A pickup landed on top of her car, but she was not hurt. \"I had no idea there was a vehicle on my car,\" she told AP. \"It\\'s really very surreal.\" Babineau told the Minneapolis Star-Tribune: \"On the way down, I thought I was dead. I literally thought I was dead. \"My truck was completely face down, pointed toward the ground, and my truck got ripped in half. It was folded in half, and I can\\'t believe I\\'m alive.\"  See and hear eyewitness accounts » . Bernie Toivonen told CNN\\'s \"American Morning\" that his vehicle was on a part of the bridge that ended up tilted at a 45-degree angle. \"I knew the deck was going down, there was no question about it, and I thought I was going to die,\" he said. After the bridge settled and his car remained upright, \"I just put in park, turned the key off and said, \\'Oh, I\\'m alive,\\' \" he said. E-mail to a friend .', 'summary': 'NEW: \"I thought I was going to die,\" driver says .\\nMan says pickup truck was folded in half; he just has cut on face .\\nDriver: \"I probably had a 30-, 35-foot free fall\"\\nMinnesota bridge collapsed during rush hour Wednesday .'}\n",
      "Sample 3: {'article': 'WASHINGTON (CNN) -- Doctors removed five small polyps from President Bush\\'s colon on Saturday, and \"none appeared worrisome,\" a White House spokesman said. The polyps were removed and sent to the National Naval Medical Center in Bethesda, Maryland, for routine microscopic examination, spokesman Scott Stanzel said. Results are expected in two to three days. All were small, less than a centimeter [half an inch] in diameter, he said. Bush is in good humor, Stanzel said, and will resume his activities at Camp David. During the procedure Vice President Dick Cheney assumed presidential power. Bush reclaimed presidential power at 9:21 a.m. after about two hours. Doctors used \"monitored anesthesia care,\" Stanzel said, so the president was asleep, but not as deeply unconscious as with a true general anesthetic. He spoke to first lady Laura Bush -- who is in Midland, Texas, celebrating her mother\\'s birthday -- before and after the procedure, Stanzel said. Afterward, the president played with his Scottish terriers, Barney and Miss Beazley, Stanzel said. He planned to have lunch at Camp David and have briefings with National Security Adviser Stephen Hadley and White House Chief of Staff Josh Bolten, and planned to take a bicycle ride Saturday afternoon. Cheney, meanwhile, spent the morning at his home on Maryland\\'s eastern shore, reading and playing with his dogs, Stanzel said. Nothing occurred that required him to take official action as president before Bush reclaimed presidential power. The procedure was supervised by Dr. Richard Tubb, Bush\\'s physician, and conducted by a multidisciplinary team from the National Naval Medical Center in Bethesda, Maryland, the White House said. Bush\\'s last colonoscopy was in June 2002, and no abnormalities were found, White House spokesman Tony Snow said. The president\\'s doctor had recommended a repeat procedure in about five years. A colonoscopy is the most sensitive test for colon cancer, rectal cancer and polyps, small clumps of cells that can become cancerous, according to the Mayo Clinic. Small polyps may be removed during the procedure. Snow said on Friday that Bush had polyps removed during colonoscopies before becoming president. Snow himself is undergoing chemotherapy for cancer that began in his colon and spread to his liver.  Watch Snow talk about Bush\\'s procedure and his own colon cancer » . \"The president wants to encourage everybody to use surveillance,\" Snow said. The American Cancer Society recommends that people without high risk factors or symptoms begin getting screened for signs of colorectal cancer at age 50. E-mail to a friend .', 'summary': 'Five small polyps found during procedure; \"none worrisome,\" spokesman says .\\nPresident reclaims powers transferred to vice president .\\nBush undergoes routine colonoscopy at Camp David .'}\n",
      "Sample 4: {'article': '(CNN)  -- The National Football League has indefinitely suspended Atlanta Falcons quarterback Michael Vick without pay, officials with the league said Friday. NFL star Michael Vick is set to appear in court Monday. A judge will have the final say on a plea deal. Earlier, Vick admitted to participating in a dogfighting ring as part of a plea agreement with federal prosecutors in Virginia. \"Your admitted conduct was not only illegal, but also cruel and reprehensible. Your team, the NFL, and NFL fans have all been hurt by your actions,\" NFL Commissioner Roger Goodell said in a letter to Vick. Goodell said he would review the status of the suspension after the legal proceedings are over. In papers filed Friday with a federal court in Virginia, Vick also admitted that he and two co-conspirators killed dogs that did not fight well. Falcons owner Arthur Blank said Vick\\'s admissions describe actions that are \"incomprehensible and unacceptable.\" The suspension makes \"a strong statement that conduct which tarnishes the good reputation of the NFL will not be tolerated,\" he said in a statement.  Watch what led to Vick\\'s suspension » . Goodell said the Falcons could \"assert any claims or remedies\" to recover $22 million of Vick\\'s signing bonus from the 10-year, $130 million contract he signed in 2004, according to The Associated Press. Vick said he would plead guilty to one count of \"Conspiracy to Travel in Interstate Commerce in Aid of Unlawful Activities and to Sponsor a Dog in an Animal Fighting Venture\" in a plea agreement filed at U.S. District Court in Richmond, Virginia. The charge is punishable by up to five years in prison, a $250,000 fine, \"full restitution, a special assessment and 3 years of supervised release,\" the plea deal said. Federal prosecutors agreed to ask for the low end of the sentencing guidelines. \"The defendant will plead guilty because the defendant is in fact guilty of the charged offense,\" the plea agreement said. In an additional summary of facts, signed by Vick and filed with the agreement, Vick admitted buying pit bulls and the property used for training and fighting the dogs, but the statement said he did not bet on the fights or receive any of the money won. \"Most of the \\'Bad Newz Kennels\\' operations and gambling monies were provided by Vick,\" the official summary of facts said. Gambling wins were generally split among co-conspirators Tony Taylor, Quanis Phillips and sometimes Purnell Peace, it continued. \"Vick did not gamble by placing side bets on any of the fights. Vick did not receive any of the proceeds from the purses that were won by \\'Bad Newz Kennels.\\' \" Vick also agreed that \"collective efforts\" by him and two others caused the deaths of at least six dogs. Around April, Vick, Peace and Phillips tested some dogs in fighting sessions at Vick\\'s property in Virginia, the statement said. \"Peace, Phillips and Vick agreed to the killing of approximately 6-8 dogs that did not perform well in \\'testing\\' sessions at 1915 Moonlight Road and all of those dogs were killed by various methods, including hanging and drowning. \"Vick agrees and stipulates that these dogs all died as a result of the collective efforts of Peace, Phillips and Vick,\" the summary said. Peace, 35, of Virginia Beach, Virginia; Phillips, 28, of Atlanta, Georgia; and Taylor, 34, of Hampton, Virginia, already have accepted agreements to plead guilty in exchange for reduced sentences. Vick, 27, is scheduled to appear Monday in court, where he is expected to plead guilty before a judge.  See a timeline of the case against Vick » . The judge in the case will have the final say over the plea agreement. The federal case against Vick focused on the interstate conspiracy, but Vick\\'s admission that he was involved in the killing of dogs could lead to local charges, according to CNN legal analyst Jeffrey Toobin. \"It sometimes happens -- not often -- that the state will follow a federal prosecution by charging its own crimes for exactly the same behavior,\" Toobin said Friday. \"The risk for Vick is, if he makes admissions in his federal guilty plea, the state of Virginia could say, \\'Hey, look, you admitted violating Virginia state law as well. We\\'re going to introduce that against you and charge you in our court.\\' \" In the plea deal, Vick agreed to cooperate with investigators and provide all information he may have on any criminal activity and to testify if necessary. Vick also agreed to turn over any documents he has and to submit to polygraph tests. Vick agreed to \"make restitution for the full amount of the costs associated\" with the dogs that are being held by the government. \"Such costs may include, but are not limited to, all costs associated with the care of the dogs involved in that case, including if necessary, the long-term care and/or the humane euthanasia of some or all of those animals.\" Prosecutors, with the support of animal rights activists, have asked for permission to euthanize the dogs. But the dogs could serve as important evidence in the cases against Vick and his admitted co-conspirators. Judge Henry E. Hudson issued an order Thursday telling the U.S. Marshals Service to \"arrest and seize the defendant property, and use discretion and whatever means appropriate to protect and maintain said defendant property.\" Both the judge\\'s order and Vick\\'s filing refer to \"approximately\" 53 pit bull dogs. After Vick\\'s indictment last month, Goodell ordered the quarterback not to report to the Falcons training camp, and the league is reviewing the case. Blank told the NFL Network on Monday he could not speculate on Vick\\'s future as a Falcon, at least not until he had seen \"a statement of facts\" in the case.  E-mail to a friend . CNN\\'s Mike Phelan contributed to this report.', 'summary': \"NEW: NFL chief, Atlanta Falcons owner critical of Michael Vick's conduct .\\nNFL suspends Falcons quarterback indefinitely without pay .\\nVick admits funding dogfighting operation but says he did not gamble .\\nVick due in federal court Monday; future in NFL remains uncertain .\"}\n"
     ]
    }
   ],
   "source": [
    "# Initialize the CNNContentDataset\n",
    "cnn_dataset = CNNContentDataset()\n",
    "\n",
    "\n",
    "print(f\"Number of samples in CNN dataset: {len(cnn_dataset)}\")\n",
    "# Print the first 5 samples\n",
    "for i in range(5):\n",
    "    sample = cnn_dataset[i]\n",
    "    print(f\"Sample {i}:\", sample)"
   ]
  },
  {
   "cell_type": "code",
   "execution_count": 39,
   "id": "54b300c9",
   "metadata": {},
   "outputs": [
    {
     "name": "stdout",
     "output_type": "stream",
     "text": [
      "Using device: mps\n"
     ]
    },
    {
     "data": {
      "application/vnd.jupyter.widget-view+json": {
       "model_id": "106b397fed3b41f795fc07a5398d8ae6",
       "version_major": 2,
       "version_minor": 0
      },
      "text/plain": [
       "Loading checkpoint shards:   0%|          | 0/6 [00:00<?, ?it/s]"
      ]
     },
     "metadata": {},
     "output_type": "display_data"
    },
    {
     "name": "stderr",
     "output_type": "stream",
     "text": [
      "Some parameters are on the meta device because they were offloaded to the disk.\n",
      "Device set to use mps\n"
     ]
    }
   ],
   "source": [
    "# Define the device for computation.\n",
    "device = torch.device(\n",
    "    \"cuda\" if torch.cuda.is_available()\n",
    "    else \"mps\" if torch.backends.mps.is_available()\n",
    "    else \"cpu\"\n",
    ")\n",
    "print(f\"Using device: {device}\")\n",
    "\n",
    "# Create a baseline text-generation pipeline from the original phi-4 model.\n",
    "baseline_pipeline = transformers.pipeline(\n",
    "    \"text-generation\",\n",
    "    model=\"microsoft/phi-4\",  # original model without your modifications\n",
    "    model_kwargs={\"torch_dtype\": \"auto\"},\n",
    "    device_map=\"auto\"\n",
    ")"
   ]
  },
  {
   "cell_type": "code",
   "execution_count": null,
   "id": "c28799ae",
   "metadata": {},
   "outputs": [
    {
     "name": "stdout",
     "output_type": "stream",
     "text": [
      "Using a subset of 71778 samples (25% of dataset).\n",
      "First sample type: <class 'dict'>\n",
      "First sample content: {'article': 'LONDON, England (Reuters) -- Harry Potter star Daniel Radcliffe gains access to a reported £20 million ($41.1 million) fortune as he turns 18 on Monday, but he insists the money won\\'t cast a spell on him. Daniel Radcliffe as Harry Potter in \"Harry Potter and the Order of the Phoenix\" To the disappointment of gossip columnists around the world, the young actor says he has no plans to fritter his cash away on fast cars, drink and celebrity parties. \"I don\\'t plan to be one of those people who, as soon as they turn 18, suddenly buy themselves a massive sports car collection or something similar,\" he told an Australian interviewer earlier this month. \"I don\\'t think I\\'ll be particularly extravagant. \"The things I like buying are things that cost about 10 pounds -- books and CDs and DVDs.\" At 18, Radcliffe will be able to gamble in a casino, buy a drink in a pub or see the horror film \"Hostel: Part II,\" currently six places below his number one movie on the UK box office chart. Details of how he\\'ll mark his landmark birthday are under wraps. His agent and publicist had no comment on his plans. \"I\\'ll definitely have some sort of party,\" he said in an interview. \"Hopefully none of you will be reading about it.\" Radcliffe\\'s earnings from the first five Potter films have been held in a trust fund which he has not been able to touch. Despite his growing fame and riches, the actor says he is keeping his feet firmly on the ground. \"People are always looking to say \\'kid star goes off the rails,\\'\" he told reporters last month. \"But I try very hard not to go that way because it would be too easy for them.\" His latest outing as the boy wizard in \"Harry Potter and the Order of the Phoenix\" is breaking records on both sides of the Atlantic and he will reprise the role in the last two films.  Watch I-Reporter give her review of Potter\\'s latest » . There is life beyond Potter, however. The Londoner has filmed a TV movie called \"My Boy Jack,\" about author Rudyard Kipling and his son, due for release later this year. He will also appear in \"December Boys,\" an Australian film about four boys who escape an orphanage. Earlier this year, he made his stage debut playing a tortured teenager in Peter Shaffer\\'s \"Equus.\" Meanwhile, he is braced for even closer media scrutiny now that he\\'s legally an adult: \"I just think I\\'m going to be more sort of fair game,\" he told Reuters. E-mail to a friend . Copyright 2007 Reuters. All rights reserved.This material may not be published, broadcast, rewritten, or redistributed.', 'summary': \"Harry Potter star Daniel Radcliffe gets £20M fortune as he turns 18 Monday .\\nYoung actor says he has no plans to fritter his cash away .\\nRadcliffe's earnings from first five Potter films have been held in trust fund .\"}\n"
     ]
    }
   ],
   "source": [
    "total_samples = len(cnn_dataset)\n",
    "subset_size = int(total_samples * 0.25)\n",
    "# Build a list of samples from the first subset_size indices.\n",
    "subset = [cnn_dataset[i] for i in range(subset_size)]\n",
    "print(f\"Using a subset of {subset_size} samples (25% of dataset).\")\n",
    "\n",
    "# Print the type and content of the first sample.\n",
    "first_sample = subset[0]\n",
    "print(\"First sample type:\", type(first_sample))\n",
    "print(\"First sample content:\", first_sample)\n"
   ]
  },
  {
   "cell_type": "code",
   "execution_count": null,
   "id": "ddb6f40a",
   "metadata": {},
   "outputs": [
    {
     "data": {
      "application/vnd.jupyter.widget-view+json": {
       "model_id": "73406050f13f4a5b97e63ac5bc92dd9c",
       "version_major": 2,
       "version_minor": 0
      },
      "text/plain": [
       "Evaluating samples:   0%|          | 0/71778 [00:00<?, ?it/s]"
      ]
     },
     "metadata": {},
     "output_type": "display_data"
    }
   ],
   "source": [
    "baseline_predictions = []\n",
    "modified_predictions = []\n",
    "references = []\n",
    "\n",
    "# Loop over each sample in the subset with a progress bar.\n",
    "for sample in tqdm(subset, desc=\"Evaluating samples\"):\n",
    "    article = sample[\"article\"]\n",
    "    reference_summary = sample[\"summary\"]\n",
    "\n",
    "    # Generate summary using the baseline (original phi-4) model.\n",
    "    baseline_out = baseline_pipeline(\n",
    "        article,\n",
    "        max_new_tokens=130,\n",
    "        min_new_tokens=30,\n",
    "        do_sample=False,\n",
    "        truncation=True\n",
    "    )\n",
    "    baseline_summary = baseline_out[0].get(\"summary_text\", baseline_out[0].get(\"generated_text\", \"\"))\n",
    "\n",
    "    # Generate summary using the modified (fine-tuned) model.\n",
    "    modified_out = pipeline(\n",
    "        article,\n",
    "        max_new_tokens=130,\n",
    "        min_new_tokens=30,\n",
    "        do_sample=False,\n",
    "        truncation=True\n",
    "    )\n",
    "    modified_summary = modified_out[0].get(\"summary_text\", modified_out[0].get(\"generated_text\", \"\"))\n",
    "\n",
    "    baseline_predictions.append(baseline_summary)\n",
    "    modified_predictions.append(modified_summary)\n",
    "    references.append(reference_summary)\n",
    "\n",
    "# Load the ROUGE evaluation metric.\n",
    "rouge_metric = evaluate.load(\"rouge\")\n",
    "\n",
    "# Compute ROUGE scores for the baseline predictions.\n",
    "baseline_results = rouge_metric.compute(\n",
    "    predictions=baseline_predictions,\n",
    "    references=references\n",
    ")\n",
    "# Compute ROUGE scores for the modified predictions.\n",
    "modified_results = rouge_metric.compute(\n",
    "    predictions=modified_predictions,\n",
    "    references=references\n",
    ")\n",
    "\n",
    "# Print out the results.\n",
    "print(\"Baseline phi-4 ROUGE Scores:\")\n",
    "for key, score in baseline_results.items():\n",
    "    print(f\"{key.upper()}: {score:.4f}\")\n",
    "\n",
    "print(\"\\nModified phi-4 ROUGE Scores:\")\n",
    "for key, score in modified_results.items():\n",
    "    print(f\"{key.upper()}: {score:.4f}\")"
   ]
  }
 ],
 "metadata": {
  "kernelspec": {
   "display_name": ".venv",
   "language": "python",
   "name": "python3"
  },
  "language_info": {
   "codemirror_mode": {
    "name": "ipython",
    "version": 3
   },
   "file_extension": ".py",
   "mimetype": "text/x-python",
   "name": "python",
   "nbconvert_exporter": "python",
   "pygments_lexer": "ipython3",
   "version": "3.11.11"
  }
 },
 "nbformat": 4,
 "nbformat_minor": 5
}
